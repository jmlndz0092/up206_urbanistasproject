{
 "cells": [
  {
   "cell_type": "markdown",
   "id": "be0b7864-5db3-4d9d-a3cb-0bff6a456ec0",
   "metadata": {},
   "source": [
    "# **LA County Median Household Income**"
   ]
  },
  {
   "cell_type": "markdown",
   "id": "56d0589f-74ff-4ced-8328-6f7f75131908",
   "metadata": {},
   "source": [
    "## Jessica Melendez\n",
    "\n",
    "The purpose of this notebook is to see if there are any differences among zip codes as compared to cities from the last notebook I did. I will also be focusing this dataset to be more accurate by looking at 2019 inflation adjusted median household income. "
   ]
  },
  {
   "cell_type": "markdown",
   "id": "906d0d70-1bdb-48c7-8527-77891a0df8d8",
   "metadata": {},
   "source": [
    "Let's start with the libraries..."
   ]
  },
  {
   "cell_type": "code",
   "execution_count": 1,
   "id": "ba7cc0e3-112b-434c-a199-90ed478cb0b7",
   "metadata": {},
   "outputs": [],
   "source": [
    "import pandas as pd\n",
    "\n",
    "import geopandas as gpd\n",
    "\n",
    "import contextily as ctx\n",
    "\n",
    "import matplotlib.pyplot as plt"
   ]
  },
  {
   "cell_type": "markdown",
   "id": "b73759f0-62d7-492b-9eb1-ee95cd452886",
   "metadata": {},
   "source": [
    "## Importing Updated Data\n",
    "Again, this time we will be looking at data based on zip code versus name of city."
   ]
  },
  {
   "cell_type": "code",
   "execution_count": 2,
   "id": "01fe749d-d79e-41a5-9da6-92d0dbc08ca1",
   "metadata": {},
   "outputs": [],
   "source": [
    "LA_income = gpd.read_file('data/LAincome.geojson')"
   ]
  },
  {
   "cell_type": "markdown",
   "id": "579de214-6901-4c66-9079-0794b8da11d4",
   "metadata": {},
   "source": [
    "Great! Now, how big is the data set?"
   ]
  },
  {
   "cell_type": "code",
   "execution_count": 3,
   "id": "788e3979-9084-4bbb-bafc-743987640752",
   "metadata": {},
   "outputs": [
    {
     "data": {
      "text/plain": [
       "(303, 5)"
      ]
     },
     "execution_count": 3,
     "metadata": {},
     "output_type": "execute_result"
    }
   ],
   "source": [
    "LA_income.shape"
   ]
  },
  {
   "cell_type": "markdown",
   "id": "2588d12c-0c77-4c7d-bc7f-3c6e2ed8e879",
   "metadata": {},
   "source": [
    "303 rows and 5 columns... okay, definitely more than the last data set we imported!"
   ]
  },
  {
   "cell_type": "markdown",
   "id": "8e4f14c3-222f-48b9-9285-b311a309f092",
   "metadata": {},
   "source": [
    "Let's get a sample of where it starts"
   ]
  },
  {
   "cell_type": "code",
   "execution_count": 4,
   "id": "1ffde539-82f7-471b-ac3f-44bcf8188c77",
   "metadata": {},
   "outputs": [
    {
     "data": {
      "text/html": [
       "<div>\n",
       "<style scoped>\n",
       "    .dataframe tbody tr th:only-of-type {\n",
       "        vertical-align: middle;\n",
       "    }\n",
       "\n",
       "    .dataframe tbody tr th {\n",
       "        vertical-align: top;\n",
       "    }\n",
       "\n",
       "    .dataframe thead th {\n",
       "        text-align: right;\n",
       "    }\n",
       "</style>\n",
       "<table border=\"1\" class=\"dataframe\">\n",
       "  <thead>\n",
       "    <tr style=\"text-align: right;\">\n",
       "      <th></th>\n",
       "      <th>geoid</th>\n",
       "      <th>name</th>\n",
       "      <th>B19013001</th>\n",
       "      <th>B19013001, Error</th>\n",
       "      <th>geometry</th>\n",
       "    </tr>\n",
       "  </thead>\n",
       "  <tbody>\n",
       "    <tr>\n",
       "      <th>0</th>\n",
       "      <td>05000US06037</td>\n",
       "      <td>Los Angeles County, CA</td>\n",
       "      <td>68044.0</td>\n",
       "      <td>347.0</td>\n",
       "      <td>MULTIPOLYGON (((-118.70339 34.16859, -118.7033...</td>\n",
       "    </tr>\n",
       "    <tr>\n",
       "      <th>1</th>\n",
       "      <td>86000US90001</td>\n",
       "      <td>90001</td>\n",
       "      <td>43360.0</td>\n",
       "      <td>2437.0</td>\n",
       "      <td>MULTIPOLYGON (((-118.26519 33.98923, -118.2620...</td>\n",
       "    </tr>\n",
       "    <tr>\n",
       "      <th>2</th>\n",
       "      <td>86000US90002</td>\n",
       "      <td>90002</td>\n",
       "      <td>37285.0</td>\n",
       "      <td>1920.0</td>\n",
       "      <td>MULTIPOLYGON (((-118.26516 33.94643, -118.2651...</td>\n",
       "    </tr>\n",
       "    <tr>\n",
       "      <th>3</th>\n",
       "      <td>86000US90003</td>\n",
       "      <td>90003</td>\n",
       "      <td>40598.0</td>\n",
       "      <td>1743.0</td>\n",
       "      <td>MULTIPOLYGON (((-118.28320 33.98914, -118.2826...</td>\n",
       "    </tr>\n",
       "    <tr>\n",
       "      <th>4</th>\n",
       "      <td>86000US90004</td>\n",
       "      <td>90004</td>\n",
       "      <td>49675.0</td>\n",
       "      <td>1784.0</td>\n",
       "      <td>MULTIPOLYGON (((-118.33858 34.08346, -118.3381...</td>\n",
       "    </tr>\n",
       "  </tbody>\n",
       "</table>\n",
       "</div>"
      ],
      "text/plain": [
       "          geoid                    name  B19013001  B19013001, Error  \\\n",
       "0  05000US06037  Los Angeles County, CA    68044.0             347.0   \n",
       "1  86000US90001                   90001    43360.0            2437.0   \n",
       "2  86000US90002                   90002    37285.0            1920.0   \n",
       "3  86000US90003                   90003    40598.0            1743.0   \n",
       "4  86000US90004                   90004    49675.0            1784.0   \n",
       "\n",
       "                                            geometry  \n",
       "0  MULTIPOLYGON (((-118.70339 34.16859, -118.7033...  \n",
       "1  MULTIPOLYGON (((-118.26519 33.98923, -118.2620...  \n",
       "2  MULTIPOLYGON (((-118.26516 33.94643, -118.2651...  \n",
       "3  MULTIPOLYGON (((-118.28320 33.98914, -118.2826...  \n",
       "4  MULTIPOLYGON (((-118.33858 34.08346, -118.3381...  "
      ]
     },
     "execution_count": 4,
     "metadata": {},
     "output_type": "execute_result"
    }
   ],
   "source": [
    "LA_income.head()"
   ]
  },
  {
   "cell_type": "markdown",
   "id": "5696b73d-7061-425e-bb47-c5a18478fc18",
   "metadata": {},
   "source": [
    "I see it starts with the 90001 Zip Code... South Central represent! 90003- I organized there at Fremont High School not too long ago..."
   ]
  },
  {
   "cell_type": "markdown",
   "id": "6ff6d5b8-06c1-41c9-8a24-17c750f76fb3",
   "metadata": {},
   "source": [
    "Okay, so what the end look like?"
   ]
  },
  {
   "cell_type": "code",
   "execution_count": 5,
   "id": "48c23f61-f30a-42fd-8b14-186d586c5666",
   "metadata": {},
   "outputs": [
    {
     "data": {
      "text/html": [
       "<div>\n",
       "<style scoped>\n",
       "    .dataframe tbody tr th:only-of-type {\n",
       "        vertical-align: middle;\n",
       "    }\n",
       "\n",
       "    .dataframe tbody tr th {\n",
       "        vertical-align: top;\n",
       "    }\n",
       "\n",
       "    .dataframe thead th {\n",
       "        text-align: right;\n",
       "    }\n",
       "</style>\n",
       "<table border=\"1\" class=\"dataframe\">\n",
       "  <thead>\n",
       "    <tr style=\"text-align: right;\">\n",
       "      <th></th>\n",
       "      <th>geoid</th>\n",
       "      <th>name</th>\n",
       "      <th>B19013001</th>\n",
       "      <th>B19013001, Error</th>\n",
       "      <th>geometry</th>\n",
       "    </tr>\n",
       "  </thead>\n",
       "  <tbody>\n",
       "    <tr>\n",
       "      <th>298</th>\n",
       "      <td>86000US93552</td>\n",
       "      <td>93552</td>\n",
       "      <td>65728.0</td>\n",
       "      <td>2550.0</td>\n",
       "      <td>MULTIPOLYGON (((-118.07917 34.51358, -118.0716...</td>\n",
       "    </tr>\n",
       "    <tr>\n",
       "      <th>299</th>\n",
       "      <td>86000US93553</td>\n",
       "      <td>93553</td>\n",
       "      <td>51630.0</td>\n",
       "      <td>21791.0</td>\n",
       "      <td>MULTIPOLYGON (((-118.01330 34.35839, -118.0132...</td>\n",
       "    </tr>\n",
       "    <tr>\n",
       "      <th>300</th>\n",
       "      <td>86000US93560</td>\n",
       "      <td>93560</td>\n",
       "      <td>60743.0</td>\n",
       "      <td>7969.0</td>\n",
       "      <td>MULTIPOLYGON (((-118.43128 34.88985, -118.4312...</td>\n",
       "    </tr>\n",
       "    <tr>\n",
       "      <th>301</th>\n",
       "      <td>86000US93563</td>\n",
       "      <td>93563</td>\n",
       "      <td>NaN</td>\n",
       "      <td>NaN</td>\n",
       "      <td>MULTIPOLYGON (((-117.87587 34.45627, -117.8756...</td>\n",
       "    </tr>\n",
       "    <tr>\n",
       "      <th>302</th>\n",
       "      <td>86000US93591</td>\n",
       "      <td>93591</td>\n",
       "      <td>47453.0</td>\n",
       "      <td>3167.0</td>\n",
       "      <td>MULTIPOLYGON (((-117.99174 34.66059, -117.9915...</td>\n",
       "    </tr>\n",
       "  </tbody>\n",
       "</table>\n",
       "</div>"
      ],
      "text/plain": [
       "            geoid   name  B19013001  B19013001, Error  \\\n",
       "298  86000US93552  93552    65728.0            2550.0   \n",
       "299  86000US93553  93553    51630.0           21791.0   \n",
       "300  86000US93560  93560    60743.0            7969.0   \n",
       "301  86000US93563  93563        NaN               NaN   \n",
       "302  86000US93591  93591    47453.0            3167.0   \n",
       "\n",
       "                                              geometry  \n",
       "298  MULTIPOLYGON (((-118.07917 34.51358, -118.0716...  \n",
       "299  MULTIPOLYGON (((-118.01330 34.35839, -118.0132...  \n",
       "300  MULTIPOLYGON (((-118.43128 34.88985, -118.4312...  \n",
       "301  MULTIPOLYGON (((-117.87587 34.45627, -117.8756...  \n",
       "302  MULTIPOLYGON (((-117.99174 34.66059, -117.9915...  "
      ]
     },
     "execution_count": 5,
     "metadata": {},
     "output_type": "execute_result"
    }
   ],
   "source": [
    "LA_income.tail()"
   ]
  },
  {
   "cell_type": "markdown",
   "id": "a65c47a0-afe0-48e0-93dd-664c85e1949a",
   "metadata": {},
   "source": [
    "Looks like the Lancaster/Palmdale area"
   ]
  },
  {
   "cell_type": "markdown",
   "id": "d0330f41-4a14-4634-ad9d-8782b6ec1be4",
   "metadata": {},
   "source": [
    "let's look at a random sample now."
   ]
  },
  {
   "cell_type": "code",
   "execution_count": 6,
   "id": "3e31bed3-d406-494c-9c53-bce7a4131845",
   "metadata": {},
   "outputs": [
    {
     "data": {
      "text/html": [
       "<div>\n",
       "<style scoped>\n",
       "    .dataframe tbody tr th:only-of-type {\n",
       "        vertical-align: middle;\n",
       "    }\n",
       "\n",
       "    .dataframe tbody tr th {\n",
       "        vertical-align: top;\n",
       "    }\n",
       "\n",
       "    .dataframe thead th {\n",
       "        text-align: right;\n",
       "    }\n",
       "</style>\n",
       "<table border=\"1\" class=\"dataframe\">\n",
       "  <thead>\n",
       "    <tr style=\"text-align: right;\">\n",
       "      <th></th>\n",
       "      <th>geoid</th>\n",
       "      <th>name</th>\n",
       "      <th>B19013001</th>\n",
       "      <th>B19013001, Error</th>\n",
       "      <th>geometry</th>\n",
       "    </tr>\n",
       "  </thead>\n",
       "  <tbody>\n",
       "    <tr>\n",
       "      <th>204</th>\n",
       "      <td>86000US91321</td>\n",
       "      <td>91321</td>\n",
       "      <td>73187.0</td>\n",
       "      <td>5202.0</td>\n",
       "      <td>MULTIPOLYGON (((-118.56958 34.38733, -118.5692...</td>\n",
       "    </tr>\n",
       "  </tbody>\n",
       "</table>\n",
       "</div>"
      ],
      "text/plain": [
       "            geoid   name  B19013001  B19013001, Error  \\\n",
       "204  86000US91321  91321    73187.0            5202.0   \n",
       "\n",
       "                                              geometry  \n",
       "204  MULTIPOLYGON (((-118.56958 34.38733, -118.5692...  "
      ]
     },
     "execution_count": 6,
     "metadata": {},
     "output_type": "execute_result"
    }
   ],
   "source": [
    "LA_income.sample()"
   ]
  },
  {
   "cell_type": "markdown",
   "id": "0aced40d-bb34-46fc-9b1b-27955df94997",
   "metadata": {},
   "source": [
    "Santa Monica! We all know where that's at"
   ]
  },
  {
   "cell_type": "markdown",
   "id": "b3c93167-e0c1-4b1b-bcaf-fcf671160071",
   "metadata": {},
   "source": [
    "## Let's get to plotting this table to begin visualizing this data!"
   ]
  },
  {
   "cell_type": "code",
   "execution_count": 7,
   "id": "9254e984-83b8-462f-b9b6-69de9781e0f8",
   "metadata": {},
   "outputs": [
    {
     "data": {
      "text/plain": [
       "<AxesSubplot:>"
      ]
     },
     "execution_count": 7,
     "metadata": {},
     "output_type": "execute_result"
    },
    {
     "data": {
      "image/png": "[encoded data removed]",
      "text/plain": [
       "<Figure size 720x720 with 1 Axes>"
      ]
     },
     "metadata": {
      "needs_background": "light"
     },
     "output_type": "display_data"
    }
   ],
   "source": [
    "LA_income.plot(figsize=(10,10))"
   ]
  },
  {
   "cell_type": "markdown",
   "id": "9dd3bd74-9cbd-468b-ab21-81633b9daa46",
   "metadata": {},
   "source": [
    "Nice! That looks great! Looks like it goes a little beyond just LA County too!"
   ]
  },
  {
   "cell_type": "markdown",
   "id": "182a39e0-7cf2-4a71-aa49-35c9d28bb6aa",
   "metadata": {},
   "source": [
    "What data types are in this data set now?"
   ]
  },
  {
   "cell_type": "code",
   "execution_count": 8,
   "id": "54bbb8d5-b48d-476a-b31b-900013c27cfc",
   "metadata": {},
   "outputs": [
    {
     "name": "stdout",
     "output_type": "stream",
     "text": [
      "<class 'geopandas.geodataframe.GeoDataFrame'>\n",
      "RangeIndex: 303 entries, 0 to 302\n",
      "Data columns (total 5 columns):\n",
      " #   Column            Non-Null Count  Dtype   \n",
      "---  ------            --------------  -----   \n",
      " 0   geoid             303 non-null    object  \n",
      " 1   name              303 non-null    object  \n",
      " 2   B19013001         288 non-null    float64 \n",
      " 3   B19013001, Error  288 non-null    float64 \n",
      " 4   geometry          303 non-null    geometry\n",
      "dtypes: float64(2), geometry(1), object(2)\n",
      "memory usage: 12.0+ KB\n"
     ]
    }
   ],
   "source": [
    "LA_income.info()"
   ]
  },
  {
   "cell_type": "markdown",
   "id": "e33dbcdf-a9e8-4b17-999a-f8720a6cec11",
   "metadata": {},
   "source": [
    "Look at that summarized data set! Let's look at the FIPS code again since we might continue incorporating county data from the census."
   ]
  },
  {
   "cell_type": "code",
   "execution_count": 9,
   "id": "d1678b0d-a38e-4624-ae01-9e268db0a51b",
   "metadata": {},
   "outputs": [
    {
     "data": {
      "text/plain": [
       "0    05000US06037\n",
       "1    86000US90001\n",
       "2    86000US90002\n",
       "3    86000US90003\n",
       "4    86000US90004\n",
       "Name: geoid, dtype: object"
      ]
     },
     "execution_count": 9,
     "metadata": {},
     "output_type": "execute_result"
    }
   ],
   "source": [
    "LA_income.geoid.head()"
   ]
  },
  {
   "cell_type": "markdown",
   "id": "6bd90322-9401-4780-bf4e-e1a7ac42aa57",
   "metadata": {},
   "source": [
    "Again, this first row is for the entire county. We can do without it so let's drop the first row."
   ]
  },
  {
   "cell_type": "code",
   "execution_count": 10,
   "id": "252431f8-d215-4368-b18c-37b0d1534c19",
   "metadata": {},
   "outputs": [
    {
     "data": {
      "text/html": [
       "<div>\n",
       "<style scoped>\n",
       "    .dataframe tbody tr th:only-of-type {\n",
       "        vertical-align: middle;\n",
       "    }\n",
       "\n",
       "    .dataframe tbody tr th {\n",
       "        vertical-align: top;\n",
       "    }\n",
       "\n",
       "    .dataframe thead th {\n",
       "        text-align: right;\n",
       "    }\n",
       "</style>\n",
       "<table border=\"1\" class=\"dataframe\">\n",
       "  <thead>\n",
       "    <tr style=\"text-align: right;\">\n",
       "      <th></th>\n",
       "      <th>geoid</th>\n",
       "      <th>name</th>\n",
       "      <th>B19013001</th>\n",
       "      <th>B19013001, Error</th>\n",
       "      <th>geometry</th>\n",
       "    </tr>\n",
       "  </thead>\n",
       "  <tbody>\n",
       "    <tr>\n",
       "      <th>0</th>\n",
       "      <td>05000US06037</td>\n",
       "      <td>Los Angeles County, CA</td>\n",
       "      <td>68044.0</td>\n",
       "      <td>347.0</td>\n",
       "      <td>MULTIPOLYGON (((-118.70339 34.16859, -118.7033...</td>\n",
       "    </tr>\n",
       "    <tr>\n",
       "      <th>1</th>\n",
       "      <td>86000US90001</td>\n",
       "      <td>90001</td>\n",
       "      <td>43360.0</td>\n",
       "      <td>2437.0</td>\n",
       "      <td>MULTIPOLYGON (((-118.26519 33.98923, -118.2620...</td>\n",
       "    </tr>\n",
       "    <tr>\n",
       "      <th>2</th>\n",
       "      <td>86000US90002</td>\n",
       "      <td>90002</td>\n",
       "      <td>37285.0</td>\n",
       "      <td>1920.0</td>\n",
       "      <td>MULTIPOLYGON (((-118.26516 33.94643, -118.2651...</td>\n",
       "    </tr>\n",
       "    <tr>\n",
       "      <th>3</th>\n",
       "      <td>86000US90003</td>\n",
       "      <td>90003</td>\n",
       "      <td>40598.0</td>\n",
       "      <td>1743.0</td>\n",
       "      <td>MULTIPOLYGON (((-118.28320 33.98914, -118.2826...</td>\n",
       "    </tr>\n",
       "    <tr>\n",
       "      <th>4</th>\n",
       "      <td>86000US90004</td>\n",
       "      <td>90004</td>\n",
       "      <td>49675.0</td>\n",
       "      <td>1784.0</td>\n",
       "      <td>MULTIPOLYGON (((-118.33858 34.08346, -118.3381...</td>\n",
       "    </tr>\n",
       "  </tbody>\n",
       "</table>\n",
       "</div>"
      ],
      "text/plain": [
       "          geoid                    name  B19013001  B19013001, Error  \\\n",
       "0  05000US06037  Los Angeles County, CA    68044.0             347.0   \n",
       "1  86000US90001                   90001    43360.0            2437.0   \n",
       "2  86000US90002                   90002    37285.0            1920.0   \n",
       "3  86000US90003                   90003    40598.0            1743.0   \n",
       "4  86000US90004                   90004    49675.0            1784.0   \n",
       "\n",
       "                                            geometry  \n",
       "0  MULTIPOLYGON (((-118.70339 34.16859, -118.7033...  \n",
       "1  MULTIPOLYGON (((-118.26519 33.98923, -118.2620...  \n",
       "2  MULTIPOLYGON (((-118.26516 33.94643, -118.2651...  \n",
       "3  MULTIPOLYGON (((-118.28320 33.98914, -118.2826...  \n",
       "4  MULTIPOLYGON (((-118.33858 34.08346, -118.3381...  "
      ]
     },
     "execution_count": 10,
     "metadata": {},
     "output_type": "execute_result"
    }
   ],
   "source": [
    "LA_income.head()"
   ]
  },
  {
   "cell_type": "code",
   "execution_count": 11,
   "id": "418bf50a-6d5f-4358-9fd9-d8b4e4da8c3e",
   "metadata": {},
   "outputs": [],
   "source": [
    "LA_income = LA_income.drop([0])"
   ]
  },
  {
   "cell_type": "markdown",
   "id": "71d20631-f052-4f1d-a805-fce8034bca0a",
   "metadata": {},
   "source": [
    "Okay, how does it look without it now"
   ]
  },
  {
   "cell_type": "code",
   "execution_count": 12,
   "id": "59a75bbe-8b43-45e8-9231-b627f6566871",
   "metadata": {},
   "outputs": [
    {
     "data": {
      "text/html": [
       "<div>\n",
       "<style scoped>\n",
       "    .dataframe tbody tr th:only-of-type {\n",
       "        vertical-align: middle;\n",
       "    }\n",
       "\n",
       "    .dataframe tbody tr th {\n",
       "        vertical-align: top;\n",
       "    }\n",
       "\n",
       "    .dataframe thead th {\n",
       "        text-align: right;\n",
       "    }\n",
       "</style>\n",
       "<table border=\"1\" class=\"dataframe\">\n",
       "  <thead>\n",
       "    <tr style=\"text-align: right;\">\n",
       "      <th></th>\n",
       "      <th>geoid</th>\n",
       "      <th>name</th>\n",
       "      <th>B19013001</th>\n",
       "      <th>B19013001, Error</th>\n",
       "      <th>geometry</th>\n",
       "    </tr>\n",
       "  </thead>\n",
       "  <tbody>\n",
       "    <tr>\n",
       "      <th>1</th>\n",
       "      <td>86000US90001</td>\n",
       "      <td>90001</td>\n",
       "      <td>43360.0</td>\n",
       "      <td>2437.0</td>\n",
       "      <td>MULTIPOLYGON (((-118.26519 33.98923, -118.2620...</td>\n",
       "    </tr>\n",
       "    <tr>\n",
       "      <th>2</th>\n",
       "      <td>86000US90002</td>\n",
       "      <td>90002</td>\n",
       "      <td>37285.0</td>\n",
       "      <td>1920.0</td>\n",
       "      <td>MULTIPOLYGON (((-118.26516 33.94643, -118.2651...</td>\n",
       "    </tr>\n",
       "    <tr>\n",
       "      <th>3</th>\n",
       "      <td>86000US90003</td>\n",
       "      <td>90003</td>\n",
       "      <td>40598.0</td>\n",
       "      <td>1743.0</td>\n",
       "      <td>MULTIPOLYGON (((-118.28320 33.98914, -118.2826...</td>\n",
       "    </tr>\n",
       "    <tr>\n",
       "      <th>4</th>\n",
       "      <td>86000US90004</td>\n",
       "      <td>90004</td>\n",
       "      <td>49675.0</td>\n",
       "      <td>1784.0</td>\n",
       "      <td>MULTIPOLYGON (((-118.33858 34.08346, -118.3381...</td>\n",
       "    </tr>\n",
       "    <tr>\n",
       "      <th>5</th>\n",
       "      <td>86000US90005</td>\n",
       "      <td>90005</td>\n",
       "      <td>38491.0</td>\n",
       "      <td>2241.0</td>\n",
       "      <td>MULTIPOLYGON (((-118.29291 34.06360, -118.2923...</td>\n",
       "    </tr>\n",
       "  </tbody>\n",
       "</table>\n",
       "</div>"
      ],
      "text/plain": [
       "          geoid   name  B19013001  B19013001, Error  \\\n",
       "1  86000US90001  90001    43360.0            2437.0   \n",
       "2  86000US90002  90002    37285.0            1920.0   \n",
       "3  86000US90003  90003    40598.0            1743.0   \n",
       "4  86000US90004  90004    49675.0            1784.0   \n",
       "5  86000US90005  90005    38491.0            2241.0   \n",
       "\n",
       "                                            geometry  \n",
       "1  MULTIPOLYGON (((-118.26519 33.98923, -118.2620...  \n",
       "2  MULTIPOLYGON (((-118.26516 33.94643, -118.2651...  \n",
       "3  MULTIPOLYGON (((-118.28320 33.98914, -118.2826...  \n",
       "4  MULTIPOLYGON (((-118.33858 34.08346, -118.3381...  \n",
       "5  MULTIPOLYGON (((-118.29291 34.06360, -118.2923...  "
      ]
     },
     "execution_count": 12,
     "metadata": {},
     "output_type": "execute_result"
    }
   ],
   "source": [
    "LA_income.head()"
   ]
  },
  {
   "cell_type": "markdown",
   "id": "bdcc1188-1e41-4f09-828b-206c37efc3ee",
   "metadata": {},
   "source": [
    "Awesome! Seems like we're on the right track."
   ]
  },
  {
   "cell_type": "markdown",
   "id": "03b64a36-23ee-4290-ab1e-14224bd2adc9",
   "metadata": {},
   "source": [
    "## Let's see what else we can do with this census data!"
   ]
  },
  {
   "cell_type": "markdown",
   "id": "fe41fa2d-c76d-451d-83f5-74a9862f3388",
   "metadata": {},
   "source": [
    "For starters, let's look at the list of columns we're working with."
   ]
  },
  {
   "cell_type": "code",
   "execution_count": 13,
   "id": "25f5ef99-a68d-467c-ba69-ec5e14a38b90",
   "metadata": {},
   "outputs": [
    {
     "data": {
      "text/plain": [
       "['geoid', 'name', 'B19013001', 'B19013001, Error', 'geometry']"
      ]
     },
     "execution_count": 13,
     "metadata": {},
     "output_type": "execute_result"
    }
   ],
   "source": [
    "list(LA_income)"
   ]
  },
  {
   "cell_type": "markdown",
   "id": "00940404-95c7-486f-94b4-1e483d416276",
   "metadata": {},
   "source": [
    "Interesting! Again, only 5 columns so I'm realizing we may not be able to do what I had hoped for and calculate percentages by zip code since they all fall within the zip code column rather than being separated in different columns individually. It's okay. Its still a new data set but within the research we aim to look at. Let's keep working..."
   ]
  },
  {
   "cell_type": "markdown",
   "id": "b72175b1-fc3a-42f8-bd64-0e54a42ca696",
   "metadata": {},
   "source": [
    "Alright, let's sort through some of this data and keep only the columns we need."
   ]
  },
  {
   "cell_type": "code",
   "execution_count": 14,
   "id": "065a2fce-b679-46cf-bfe0-5eb9f5c6ca98",
   "metadata": {},
   "outputs": [],
   "source": [
    "columns_to_keep = ['geoid',\n",
    " 'name',\n",
    " 'B19013001',\n",
    " 'geometry']"
   ]
  },
  {
   "cell_type": "markdown",
   "id": "e498a8a1-8284-46dd-aae7-707c1e50f2e1",
   "metadata": {},
   "source": [
    "Toodaloo B19013001, Error! We're sticking with the median household income adjusted for inflation to keep our data more accurate."
   ]
  },
  {
   "cell_type": "code",
   "execution_count": 15,
   "id": "cbc1e27d-816e-4b12-be30-89289d6f4d39",
   "metadata": {},
   "outputs": [],
   "source": [
    "LA_income = LA_income[columns_to_keep]"
   ]
  },
  {
   "cell_type": "markdown",
   "id": "f9e100d7-4401-448d-9bd0-7d244e1a2391",
   "metadata": {},
   "source": [
    "Okay, so what's that look like now?"
   ]
  },
  {
   "cell_type": "code",
   "execution_count": 16,
   "id": "55d8ad8a-eee5-4da7-b357-3138cd77c109",
   "metadata": {},
   "outputs": [
    {
     "data": {
      "text/html": [
       "<div>\n",
       "<style scoped>\n",
       "    .dataframe tbody tr th:only-of-type {\n",
       "        vertical-align: middle;\n",
       "    }\n",
       "\n",
       "    .dataframe tbody tr th {\n",
       "        vertical-align: top;\n",
       "    }\n",
       "\n",
       "    .dataframe thead th {\n",
       "        text-align: right;\n",
       "    }\n",
       "</style>\n",
       "<table border=\"1\" class=\"dataframe\">\n",
       "  <thead>\n",
       "    <tr style=\"text-align: right;\">\n",
       "      <th></th>\n",
       "      <th>geoid</th>\n",
       "      <th>name</th>\n",
       "      <th>B19013001</th>\n",
       "      <th>geometry</th>\n",
       "    </tr>\n",
       "  </thead>\n",
       "  <tbody>\n",
       "    <tr>\n",
       "      <th>1</th>\n",
       "      <td>86000US90001</td>\n",
       "      <td>90001</td>\n",
       "      <td>43360.0</td>\n",
       "      <td>MULTIPOLYGON (((-118.26519 33.98923, -118.2620...</td>\n",
       "    </tr>\n",
       "    <tr>\n",
       "      <th>2</th>\n",
       "      <td>86000US90002</td>\n",
       "      <td>90002</td>\n",
       "      <td>37285.0</td>\n",
       "      <td>MULTIPOLYGON (((-118.26516 33.94643, -118.2651...</td>\n",
       "    </tr>\n",
       "    <tr>\n",
       "      <th>3</th>\n",
       "      <td>86000US90003</td>\n",
       "      <td>90003</td>\n",
       "      <td>40598.0</td>\n",
       "      <td>MULTIPOLYGON (((-118.28320 33.98914, -118.2826...</td>\n",
       "    </tr>\n",
       "    <tr>\n",
       "      <th>4</th>\n",
       "      <td>86000US90004</td>\n",
       "      <td>90004</td>\n",
       "      <td>49675.0</td>\n",
       "      <td>MULTIPOLYGON (((-118.33858 34.08346, -118.3381...</td>\n",
       "    </tr>\n",
       "    <tr>\n",
       "      <th>5</th>\n",
       "      <td>86000US90005</td>\n",
       "      <td>90005</td>\n",
       "      <td>38491.0</td>\n",
       "      <td>MULTIPOLYGON (((-118.29291 34.06360, -118.2923...</td>\n",
       "    </tr>\n",
       "  </tbody>\n",
       "</table>\n",
       "</div>"
      ],
      "text/plain": [
       "          geoid   name  B19013001  \\\n",
       "1  86000US90001  90001    43360.0   \n",
       "2  86000US90002  90002    37285.0   \n",
       "3  86000US90003  90003    40598.0   \n",
       "4  86000US90004  90004    49675.0   \n",
       "5  86000US90005  90005    38491.0   \n",
       "\n",
       "                                            geometry  \n",
       "1  MULTIPOLYGON (((-118.26519 33.98923, -118.2620...  \n",
       "2  MULTIPOLYGON (((-118.26516 33.94643, -118.2651...  \n",
       "3  MULTIPOLYGON (((-118.28320 33.98914, -118.2826...  \n",
       "4  MULTIPOLYGON (((-118.33858 34.08346, -118.3381...  \n",
       "5  MULTIPOLYGON (((-118.29291 34.06360, -118.2923...  "
      ]
     },
     "execution_count": 16,
     "metadata": {},
     "output_type": "execute_result"
    }
   ],
   "source": [
    "LA_income.head()"
   ]
  },
  {
   "cell_type": "markdown",
   "id": "d2e0a60c-6e62-4ed1-a32b-b798cc489521",
   "metadata": {},
   "source": [
    "Hmmm... better but who understands what B19013001, means?! Let's simplify and rename the column!"
   ]
  },
  {
   "cell_type": "code",
   "execution_count": 17,
   "id": "566291e7-08a8-4b40-964c-b8c249c3997c",
   "metadata": {},
   "outputs": [],
   "source": [
    "LA_income.columns = ['geoid',\n",
    " 'zipcode',\n",
    " 'mhhi_adj',\n",
    " 'geometry']"
   ]
  },
  {
   "cell_type": "markdown",
   "id": "f9f924f4-5bb2-4291-952c-8ddace3d47bb",
   "metadata": {},
   "source": [
    "Great! Let's see what that looks like as a table!"
   ]
  },
  {
   "cell_type": "code",
   "execution_count": 18,
   "id": "c2ef6051-541b-4f1d-b467-2352914c8404",
   "metadata": {},
   "outputs": [
    {
     "data": {
      "text/html": [
       "<div>\n",
       "<style scoped>\n",
       "    .dataframe tbody tr th:only-of-type {\n",
       "        vertical-align: middle;\n",
       "    }\n",
       "\n",
       "    .dataframe tbody tr th {\n",
       "        vertical-align: top;\n",
       "    }\n",
       "\n",
       "    .dataframe thead th {\n",
       "        text-align: right;\n",
       "    }\n",
       "</style>\n",
       "<table border=\"1\" class=\"dataframe\">\n",
       "  <thead>\n",
       "    <tr style=\"text-align: right;\">\n",
       "      <th></th>\n",
       "      <th>geoid</th>\n",
       "      <th>zipcode</th>\n",
       "      <th>mhhi_adj</th>\n",
       "      <th>geometry</th>\n",
       "    </tr>\n",
       "  </thead>\n",
       "  <tbody>\n",
       "    <tr>\n",
       "      <th>1</th>\n",
       "      <td>86000US90001</td>\n",
       "      <td>90001</td>\n",
       "      <td>43360.0</td>\n",
       "      <td>MULTIPOLYGON (((-118.26519 33.98923, -118.2620...</td>\n",
       "    </tr>\n",
       "    <tr>\n",
       "      <th>2</th>\n",
       "      <td>86000US90002</td>\n",
       "      <td>90002</td>\n",
       "      <td>37285.0</td>\n",
       "      <td>MULTIPOLYGON (((-118.26516 33.94643, -118.2651...</td>\n",
       "    </tr>\n",
       "    <tr>\n",
       "      <th>3</th>\n",
       "      <td>86000US90003</td>\n",
       "      <td>90003</td>\n",
       "      <td>40598.0</td>\n",
       "      <td>MULTIPOLYGON (((-118.28320 33.98914, -118.2826...</td>\n",
       "    </tr>\n",
       "    <tr>\n",
       "      <th>4</th>\n",
       "      <td>86000US90004</td>\n",
       "      <td>90004</td>\n",
       "      <td>49675.0</td>\n",
       "      <td>MULTIPOLYGON (((-118.33858 34.08346, -118.3381...</td>\n",
       "    </tr>\n",
       "    <tr>\n",
       "      <th>5</th>\n",
       "      <td>86000US90005</td>\n",
       "      <td>90005</td>\n",
       "      <td>38491.0</td>\n",
       "      <td>MULTIPOLYGON (((-118.29291 34.06360, -118.2923...</td>\n",
       "    </tr>\n",
       "  </tbody>\n",
       "</table>\n",
       "</div>"
      ],
      "text/plain": [
       "          geoid zipcode  mhhi_adj  \\\n",
       "1  86000US90001   90001   43360.0   \n",
       "2  86000US90002   90002   37285.0   \n",
       "3  86000US90003   90003   40598.0   \n",
       "4  86000US90004   90004   49675.0   \n",
       "5  86000US90005   90005   38491.0   \n",
       "\n",
       "                                            geometry  \n",
       "1  MULTIPOLYGON (((-118.26519 33.98923, -118.2620...  \n",
       "2  MULTIPOLYGON (((-118.26516 33.94643, -118.2651...  \n",
       "3  MULTIPOLYGON (((-118.28320 33.98914, -118.2826...  \n",
       "4  MULTIPOLYGON (((-118.33858 34.08346, -118.3381...  \n",
       "5  MULTIPOLYGON (((-118.29291 34.06360, -118.2923...  "
      ]
     },
     "execution_count": 18,
     "metadata": {},
     "output_type": "execute_result"
    }
   ],
   "source": [
    "LA_income.head()"
   ]
  },
  {
   "cell_type": "markdown",
   "id": "c6a70b76-410e-4b98-b1e7-513e6223639b",
   "metadata": {},
   "source": [
    "## Moving on!"
   ]
  },
  {
   "cell_type": "markdown",
   "id": "f6db932c-8b80-4c3f-8ed8-fa72cb6226ca",
   "metadata": {},
   "source": [
    "Let's see what a single column's data looks like"
   ]
  },
  {
   "cell_type": "code",
   "execution_count": 19,
   "id": "edb2f992-10c5-4971-af36-9f184d756f11",
   "metadata": {},
   "outputs": [
    {
     "data": {
      "text/plain": [
       "1    43360.0\n",
       "2    37285.0\n",
       "3    40598.0\n",
       "4    49675.0\n",
       "5    38491.0\n",
       "Name: mhhi_adj, dtype: float64"
      ]
     },
     "execution_count": 19,
     "metadata": {},
     "output_type": "execute_result"
    }
   ],
   "source": [
    "LA_income['mhhi_adj'].head()"
   ]
  },
  {
   "cell_type": "markdown",
   "id": "50223236-3633-4a16-8380-b5f54b8f2f7e",
   "metadata": {},
   "source": [
    "Okay, great! Now, let's look at our data again, what is the mean for median household income adjusted for inflation?"
   ]
  },
  {
   "cell_type": "code",
   "execution_count": 20,
   "id": "3c123da1-0359-4d79-bc2a-ad8ecec23847",
   "metadata": {},
   "outputs": [
    {
     "data": {
      "text/plain": [
       "77149.96864111499"
      ]
     },
     "execution_count": 20,
     "metadata": {},
     "output_type": "execute_result"
    }
   ],
   "source": [
    "LA_income['mhhi_adj'].mean()"
   ]
  },
  {
   "cell_type": "markdown",
   "id": "860d6dcf-9197-4e31-b003-2bcd07f896cf",
   "metadata": {},
   "source": [
    "Interesting! 77,149.97 is the mean median household income. I hope i can be making that some time soon! One can dream, right?"
   ]
  },
  {
   "cell_type": "markdown",
   "id": "ecf74174-a0b7-466a-92ef-a95ec6486104",
   "metadata": {},
   "source": [
    "Now, what does the median for median household income look like?"
   ]
  },
  {
   "cell_type": "code",
   "execution_count": 21,
   "id": "e3bff35d-d2ba-4dde-8298-ca3d54734ea5",
   "metadata": {},
   "outputs": [
    {
     "data": {
      "text/plain": [
       "71691.0"
      ]
     },
     "execution_count": 21,
     "metadata": {},
     "output_type": "execute_result"
    }
   ],
   "source": [
    "LA_income['mhhi_adj'].median()"
   ]
  },
  {
   "cell_type": "markdown",
   "id": "3af5daba-a21f-4252-8fd1-39729e5aaa6f",
   "metadata": {},
   "source": [
    "So among our various zip codes, 71,691 is the median household income "
   ]
  },
  {
   "cell_type": "markdown",
   "id": "382ffed5-8524-4a7c-8ce1-0d3db1ffad60",
   "metadata": {},
   "source": [
    "## Let's see those quant. skills again! Where are the stats at?!"
   ]
  },
  {
   "cell_type": "code",
   "execution_count": 22,
   "id": "8f90bf4d-9fd5-4f11-a982-36d3ea81d4b1",
   "metadata": {},
   "outputs": [
    {
     "data": {
      "text/plain": [
       "count       287.000000\n",
       "mean      77149.968641\n",
       "std       30656.774414\n",
       "min       21635.000000\n",
       "25%       53896.500000\n",
       "50%       71691.000000\n",
       "75%       93281.500000\n",
       "max      209531.000000\n",
       "Name: mhhi_adj, dtype: float64"
      ]
     },
     "execution_count": 22,
     "metadata": {},
     "output_type": "execute_result"
    }
   ],
   "source": [
    "LA_income['mhhi_adj'].describe()"
   ]
  },
  {
   "cell_type": "markdown",
   "id": "33804853-6e1a-44d9-85ac-e8bcddc8e37f",
   "metadata": {},
   "source": [
    "Wow! So at the very minimum across all the zip codes in this data set, the median household income for some areas is 21,635 while the maximum some areas report is 209,531. That's such a wide gap!"
   ]
  },
  {
   "cell_type": "markdown",
   "id": "c12c2183-8672-43ce-a0ba-311a0b02bf60",
   "metadata": {},
   "source": [
    "## Let's see what that looks like on a histogram!"
   ]
  },
  {
   "cell_type": "code",
   "execution_count": 23,
   "id": "e9d42c35-72a2-4a7f-881f-9f7e3ffbcea0",
   "metadata": {},
   "outputs": [
    {
     "data": {
      "text/plain": [
       "<AxesSubplot:ylabel='Frequency'>"
      ]
     },
     "execution_count": 23,
     "metadata": {},
     "output_type": "execute_result"
    },
    {
     "data": {
      "image/png": "[encoded data removed]",
      "text/plain": [
       "<Figure size 432x288 with 1 Axes>"
      ]
     },
     "metadata": {
      "needs_background": "light"
     },
     "output_type": "display_data"
    }
   ],
   "source": [
    "LA_income['mhhi_adj'].plot.hist(bins=50)"
   ]
  },
  {
   "cell_type": "markdown",
   "id": "5c3b725d-b05b-4001-bbaa-00fde38e1f47",
   "metadata": {},
   "source": [
    "Let's see, the gap is still pretty wide between the minimum amount of median household income reported and the 25th percentile. However, the distance between the maximums median household income and the maximum median household income is significantly larger. "
   ]
  },
  {
   "cell_type": "markdown",
   "id": "a84dd871-e180-45e0-91d7-a983ab5bb2e6",
   "metadata": {},
   "source": [
    "Let's look at this data as it ascends upward."
   ]
  },
  {
   "cell_type": "code",
   "execution_count": 24,
   "id": "bedced8d-ba51-4ed9-8646-2f55d802e47c",
   "metadata": {},
   "outputs": [],
   "source": [
    "LA_income_sorted = LA_income.sort_values(by='mhhi_adj',ascending = False)"
   ]
  },
  {
   "cell_type": "markdown",
   "id": "63a7a307-0c9c-4fb6-b936-15643518e7ed",
   "metadata": {},
   "source": [
    "What's that look like on the table?"
   ]
  },
  {
   "cell_type": "code",
   "execution_count": 25,
   "id": "77a4f2a8-837d-4db2-a7c9-f5df504cbeb8",
   "metadata": {},
   "outputs": [
    {
     "data": {
      "text/html": [
       "<div>\n",
       "<style scoped>\n",
       "    .dataframe tbody tr th:only-of-type {\n",
       "        vertical-align: middle;\n",
       "    }\n",
       "\n",
       "    .dataframe tbody tr th {\n",
       "        vertical-align: top;\n",
       "    }\n",
       "\n",
       "    .dataframe thead th {\n",
       "        text-align: right;\n",
       "    }\n",
       "</style>\n",
       "<table border=\"1\" class=\"dataframe\">\n",
       "  <thead>\n",
       "    <tr style=\"text-align: right;\">\n",
       "      <th></th>\n",
       "      <th>geoid</th>\n",
       "      <th>mhhi_adj</th>\n",
       "    </tr>\n",
       "  </thead>\n",
       "  <tbody>\n",
       "    <tr>\n",
       "      <th>63</th>\n",
       "      <td>86000US90077</td>\n",
       "      <td>209531.0</td>\n",
       "    </tr>\n",
       "    <tr>\n",
       "      <th>94</th>\n",
       "      <td>86000US90272</td>\n",
       "      <td>192500.0</td>\n",
       "    </tr>\n",
       "    <tr>\n",
       "      <th>171</th>\n",
       "      <td>86000US91011</td>\n",
       "      <td>175652.0</td>\n",
       "    </tr>\n",
       "    <tr>\n",
       "      <th>238</th>\n",
       "      <td>86000US91436</td>\n",
       "      <td>174085.0</td>\n",
       "    </tr>\n",
       "    <tr>\n",
       "      <th>95</th>\n",
       "      <td>86000US90274</td>\n",
       "      <td>169919.0</td>\n",
       "    </tr>\n",
       "    <tr>\n",
       "      <th>185</th>\n",
       "      <td>86000US91108</td>\n",
       "      <td>165765.0</td>\n",
       "    </tr>\n",
       "    <tr>\n",
       "      <th>67</th>\n",
       "      <td>86000US90094</td>\n",
       "      <td>155417.0</td>\n",
       "    </tr>\n",
       "    <tr>\n",
       "      <th>110</th>\n",
       "      <td>86000US90402</td>\n",
       "      <td>154583.0</td>\n",
       "    </tr>\n",
       "    <tr>\n",
       "      <th>92</th>\n",
       "      <td>86000US90266</td>\n",
       "      <td>153023.0</td>\n",
       "    </tr>\n",
       "    <tr>\n",
       "      <th>91</th>\n",
       "      <td>86000US90265</td>\n",
       "      <td>152378.0</td>\n",
       "    </tr>\n",
       "  </tbody>\n",
       "</table>\n",
       "</div>"
      ],
      "text/plain": [
       "            geoid  mhhi_adj\n",
       "63   86000US90077  209531.0\n",
       "94   86000US90272  192500.0\n",
       "171  86000US91011  175652.0\n",
       "238  86000US91436  174085.0\n",
       "95   86000US90274  169919.0\n",
       "185  86000US91108  165765.0\n",
       "67   86000US90094  155417.0\n",
       "110  86000US90402  154583.0\n",
       "92   86000US90266  153023.0\n",
       "91   86000US90265  152378.0"
      ]
     },
     "execution_count": 25,
     "metadata": {},
     "output_type": "execute_result"
    }
   ],
   "source": [
    "LA_income_sorted[['geoid','mhhi_adj']].head(10)"
   ]
  },
  {
   "cell_type": "markdown",
   "id": "0a9916fc-196a-4dd6-9890-e072803d8354",
   "metadata": {},
   "source": [
    "## Perfect! Let's see that plotted now!"
   ]
  },
  {
   "cell_type": "code",
   "execution_count": 31,
   "id": "c4b7452c-5c87-45eb-a88b-7b023de31396",
   "metadata": {},
   "outputs": [
    {
     "data": {
      "text/plain": [
       "<AxesSubplot:>"
      ]
     },
     "execution_count": 31,
     "metadata": {},
     "output_type": "execute_result"
    },
    {
     "data": {
      "image/png": "[encoded data removed]",
      "text/plain": [
       "<Figure size 432x288 with 1 Axes>"
      ]
     },
     "metadata": {
      "needs_background": "light"
     },
     "output_type": "display_data"
    }
   ],
   "source": [
    "LA_income_sorted.head(10).plot()"
   ]
  },
  {
   "cell_type": "markdown",
   "id": "b4c385af-1a3c-4774-95d1-ba318161f0b1",
   "metadata": {},
   "source": [
    "Okay, seems like the corners of this data set seem to have the lowest median household income "
   ]
  },
  {
   "cell_type": "markdown",
   "id": "82950b39-a5b1-4f6a-80ba-99be4db291af",
   "metadata": {},
   "source": [
    "Let's visualize that now!"
   ]
  },
  {
   "cell_type": "code",
   "execution_count": 26,
   "id": "da562268-04e8-4b75-833c-36cf7d53584e",
   "metadata": {},
   "outputs": [
    {
     "data": {
      "text/plain": [
       "<AxesSubplot:>"
      ]
     },
     "execution_count": 26,
     "metadata": {},
     "output_type": "execute_result"
    },
    {
     "data": {
      "image/png": "[encoded data removed]",
      "text/plain": [
       "<Figure size 720x720 with 2 Axes>"
      ]
     },
     "metadata": {
      "needs_background": "light"
     },
     "output_type": "display_data"
    }
   ],
   "source": [
    "LA_income_sorted.head(100).plot(figsize=(10,10),column='mhhi_adj',legend=True)"
   ]
  },
  {
   "cell_type": "markdown",
   "id": "f407143d-8eca-4c28-86c3-c8cb5839aea3",
   "metadata": {},
   "source": [
    "Looks like those zip code closer to the coast and more central in this data set have some of the highest levels of median household income"
   ]
  },
  {
   "cell_type": "markdown",
   "id": "adcc4cec-ac17-41e8-bb43-0053ce03fa53",
   "metadata": {},
   "source": [
    "## Let's plot that in percentiles!"
   ]
  },
  {
   "cell_type": "markdown",
   "id": "cd93556f-74bf-4a8c-94c1-3edf334cf8ef",
   "metadata": {},
   "source": [
    "Next time let's use another data set that might have more values in different columns that we can separate and compare"
   ]
  },
  {
   "cell_type": "code",
   "execution_count": 27,
   "id": "dc9a5504-1a04-4d6c-bf5a-7222e358ac88",
   "metadata": {},
   "outputs": [
    {
     "data": {
      "text/plain": [
       "<AxesSubplot:>"
      ]
     },
     "execution_count": 27,
     "metadata": {},
     "output_type": "execute_result"
    },
    {
     "data": {
      "image/png": "[encoded data removed]",
      "text/plain": [
       "<Figure size 864x720 with 1 Axes>"
      ]
     },
     "metadata": {
      "needs_background": "light"
     },
     "output_type": "display_data"
    }
   ],
   "source": [
    "LA_income.plot(figsize=(12,10),\n",
    "                 column='mhhi_adj',\n",
    "                 legend=True, \n",
    "                 scheme='quantiles')"
   ]
  },
  {
   "cell_type": "markdown",
   "id": "02d2c036-7a18-44d0-ab9b-65e0fead1951",
   "metadata": {},
   "source": [
    "Look at that! Seems like the zip codes with the lowest amounts of median household income are concentrated in the center of the map and central to the region. However, there are also two other areas at the far corners that seem to have low amounts of median household income. Looking at this map, I want to see what other methods I can learn or data sets I can use that tell us exactly what zip codes correlate with the percentiles being visualized in this map."
   ]
  },
  {
   "cell_type": "code",
   "execution_count": null,
   "id": "c0aa4c0e-0a7e-4c90-b5a4-01099fef136b",
   "metadata": {},
   "outputs": [],
   "source": []
  }
 ],
 "metadata": {
  "kernelspec": {
   "display_name": "Python 3 (ipykernel)",
   "language": "python",
   "name": "python3"
  },
  "language_info": {
   "codemirror_mode": {
    "name": "ipython",
    "version": 3
   },
   "file_extension": ".py",
   "mimetype": "text/x-python",
   "name": "python",
   "nbconvert_exporter": "python",
   "pygments_lexer": "ipython3",
   "version": "3.9.6"
  }
 },
 "nbformat": 4,
 "nbformat_minor": 5
}
