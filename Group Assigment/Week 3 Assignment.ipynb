{
 "cells": [
  {
   "cell_type": "markdown",
   "id": "8673dd10-9225-4cc1-889e-030bbaaf799b",
   "metadata": {
    "tags": []
   },
   "source": [
    "# **LA County Median Household Income**\n",
    "## **Jessica Melendez**\n",
    "\n",
    "In this notebook I will look at median household income in LA County over the last year. This data is important to our research because it will help inform us of different trends and patterns we see across LA County and it will aid us in looking at which areas fall above or below median household income. This data in particular looks at LA County median household income over the last year separated by census tracts and county subdivisions. "
   ]
  },
  {
   "cell_type": "markdown",
   "id": "d33f3b45-cb4b-4ada-b0d3-5574603816f2",
   "metadata": {},
   "source": [
    "## First, I will download and import my data from census reporter"
   ]
  },
  {
   "cell_type": "code",
   "execution_count": 3,
   "id": "721648fb-56e4-4589-82ba-4e840e69f2ae",
   "metadata": {},
   "outputs": [],
   "source": [
    "import pandas as pd\n",
    "\n",
    "import geopandas as gpd\n",
    "\n",
    "import contextily as ctx\n",
    "\n",
    "import matplotlib.pyplot as plt"
   ]
  },
  {
   "cell_type": "code",
   "execution_count": 4,
   "id": "a1d058b2-05f7-4423-a596-8431f0d5a189",
   "metadata": {},
   "outputs": [],
   "source": [
    "LA_income = gpd.read_file('Data/LA_income.geojson')"
   ]
  },
  {
   "cell_type": "markdown",
   "id": "c3402819-777d-498d-bcf1-d10dc491fc2a",
   "metadata": {},
   "source": [
    "## Perfect! Now, let's get more familiar with the data."
   ]
  },
  {
   "cell_type": "markdown",
   "id": "a72ec2ae-8baa-4c05-a77e-4c0f66638c83",
   "metadata": {},
   "source": [
    "How big is the data set?"
   ]
  },
  {
   "cell_type": "code",
   "execution_count": 5,
   "id": "3bc1ffb0-b50f-49de-97a7-96b08b755330",
   "metadata": {},
   "outputs": [
    {
     "data": {
      "text/plain": [
       "(142, 5)"
      ]
     },
     "execution_count": 5,
     "metadata": {},
     "output_type": "execute_result"
    }
   ],
   "source": [
    "LA_income.shape"
   ]
  },
  {
   "cell_type": "markdown",
   "id": "6761b69b-18fa-426d-9d67-cefb7478a898",
   "metadata": {},
   "source": [
    "Great! What does the top of the data set look like?"
   ]
  },
  {
   "cell_type": "code",
   "execution_count": 6,
   "id": "0193433a-a463-490f-891d-5b5d79ac2844",
   "metadata": {},
   "outputs": [
    {
     "data": {
      "text/html": [
       "<div>\n",
       "<style scoped>\n",
       "    .dataframe tbody tr th:only-of-type {\n",
       "        vertical-align: middle;\n",
       "    }\n",
       "\n",
       "    .dataframe tbody tr th {\n",
       "        vertical-align: top;\n",
       "    }\n",
       "\n",
       "    .dataframe thead th {\n",
       "        text-align: right;\n",
       "    }\n",
       "</style>\n",
       "<table border=\"1\" class=\"dataframe\">\n",
       "  <thead>\n",
       "    <tr style=\"text-align: right;\">\n",
       "      <th></th>\n",
       "      <th>geoid</th>\n",
       "      <th>name</th>\n",
       "      <th>B19013001</th>\n",
       "      <th>B19013001, Error</th>\n",
       "      <th>geometry</th>\n",
       "    </tr>\n",
       "  </thead>\n",
       "  <tbody>\n",
       "    <tr>\n",
       "      <th>0</th>\n",
       "      <td>05000US06037</td>\n",
       "      <td>Los Angeles County, CA</td>\n",
       "      <td>68044.0</td>\n",
       "      <td>347.0</td>\n",
       "      <td>MULTIPOLYGON (((-118.70339 34.16859, -118.7033...</td>\n",
       "    </tr>\n",
       "    <tr>\n",
       "      <th>1</th>\n",
       "      <td>16000US0600212</td>\n",
       "      <td>Acton, CA</td>\n",
       "      <td>97857.0</td>\n",
       "      <td>7939.0</td>\n",
       "      <td>MULTIPOLYGON (((-118.25990 34.49589, -118.2579...</td>\n",
       "    </tr>\n",
       "    <tr>\n",
       "      <th>2</th>\n",
       "      <td>16000US0600394</td>\n",
       "      <td>Agoura Hills, CA</td>\n",
       "      <td>122998.0</td>\n",
       "      <td>7910.0</td>\n",
       "      <td>MULTIPOLYGON (((-118.79962 34.14005, -118.7967...</td>\n",
       "    </tr>\n",
       "    <tr>\n",
       "      <th>3</th>\n",
       "      <td>16000US0600450</td>\n",
       "      <td>Agua Dulce, CA</td>\n",
       "      <td>106875.0</td>\n",
       "      <td>28122.0</td>\n",
       "      <td>MULTIPOLYGON (((-118.37894 34.46763, -118.3783...</td>\n",
       "    </tr>\n",
       "    <tr>\n",
       "      <th>4</th>\n",
       "      <td>16000US0600884</td>\n",
       "      <td>Alhambra, CA</td>\n",
       "      <td>61384.0</td>\n",
       "      <td>2132.0</td>\n",
       "      <td>MULTIPOLYGON (((-118.16528 34.06244, -118.1652...</td>\n",
       "    </tr>\n",
       "  </tbody>\n",
       "</table>\n",
       "</div>"
      ],
      "text/plain": [
       "            geoid                    name  B19013001  B19013001, Error  \\\n",
       "0    05000US06037  Los Angeles County, CA    68044.0             347.0   \n",
       "1  16000US0600212               Acton, CA    97857.0            7939.0   \n",
       "2  16000US0600394        Agoura Hills, CA   122998.0            7910.0   \n",
       "3  16000US0600450          Agua Dulce, CA   106875.0           28122.0   \n",
       "4  16000US0600884            Alhambra, CA    61384.0            2132.0   \n",
       "\n",
       "                                            geometry  \n",
       "0  MULTIPOLYGON (((-118.70339 34.16859, -118.7033...  \n",
       "1  MULTIPOLYGON (((-118.25990 34.49589, -118.2579...  \n",
       "2  MULTIPOLYGON (((-118.79962 34.14005, -118.7967...  \n",
       "3  MULTIPOLYGON (((-118.37894 34.46763, -118.3783...  \n",
       "4  MULTIPOLYGON (((-118.16528 34.06244, -118.1652...  "
      ]
     },
     "execution_count": 6,
     "metadata": {},
     "output_type": "execute_result"
    }
   ],
   "source": [
    "LA_income.head()"
   ]
  },
  {
   "cell_type": "markdown",
   "id": "7bd197fa-5d8b-4e8a-b911-f4d0515cd776",
   "metadata": {},
   "source": [
    "Okay, now let's see a sample of the tail end of the data."
   ]
  },
  {
   "cell_type": "code",
   "execution_count": 7,
   "id": "1da0f860-8ab2-4d40-a818-1ef904333311",
   "metadata": {},
   "outputs": [
    {
     "data": {
      "text/html": [
       "<div>\n",
       "<style scoped>\n",
       "    .dataframe tbody tr th:only-of-type {\n",
       "        vertical-align: middle;\n",
       "    }\n",
       "\n",
       "    .dataframe tbody tr th {\n",
       "        vertical-align: top;\n",
       "    }\n",
       "\n",
       "    .dataframe thead th {\n",
       "        text-align: right;\n",
       "    }\n",
       "</style>\n",
       "<table border=\"1\" class=\"dataframe\">\n",
       "  <thead>\n",
       "    <tr style=\"text-align: right;\">\n",
       "      <th></th>\n",
       "      <th>geoid</th>\n",
       "      <th>name</th>\n",
       "      <th>B19013001</th>\n",
       "      <th>B19013001, Error</th>\n",
       "      <th>geometry</th>\n",
       "    </tr>\n",
       "  </thead>\n",
       "  <tbody>\n",
       "    <tr>\n",
       "      <th>137</th>\n",
       "      <td>16000US0684774</td>\n",
       "      <td>West Puente Valley, CA</td>\n",
       "      <td>75856.0</td>\n",
       "      <td>8204.0</td>\n",
       "      <td>MULTIPOLYGON (((-117.99004 34.05045, -117.9895...</td>\n",
       "    </tr>\n",
       "    <tr>\n",
       "      <th>138</th>\n",
       "      <td>16000US0684780</td>\n",
       "      <td>West Rancho Dominguez, CA</td>\n",
       "      <td>60155.0</td>\n",
       "      <td>4727.0</td>\n",
       "      <td>MULTIPOLYGON (((-118.25442 33.90622, -118.2542...</td>\n",
       "    </tr>\n",
       "    <tr>\n",
       "      <th>139</th>\n",
       "      <td>16000US0684921</td>\n",
       "      <td>West Whittier-Los Nietos, CA</td>\n",
       "      <td>76397.0</td>\n",
       "      <td>4204.0</td>\n",
       "      <td>MULTIPOLYGON (((-118.08884 33.96718, -118.0888...</td>\n",
       "    </tr>\n",
       "    <tr>\n",
       "      <th>140</th>\n",
       "      <td>16000US0685292</td>\n",
       "      <td>Whittier, CA</td>\n",
       "      <td>77270.0</td>\n",
       "      <td>3192.0</td>\n",
       "      <td>MULTIPOLYGON (((-118.05774 34.02465, -118.0562...</td>\n",
       "    </tr>\n",
       "    <tr>\n",
       "      <th>141</th>\n",
       "      <td>16000US0685614</td>\n",
       "      <td>Willowbrook, CA</td>\n",
       "      <td>43781.0</td>\n",
       "      <td>4772.0</td>\n",
       "      <td>MULTIPOLYGON (((-118.25427 33.92946, -118.2533...</td>\n",
       "    </tr>\n",
       "  </tbody>\n",
       "</table>\n",
       "</div>"
      ],
      "text/plain": [
       "              geoid                          name  B19013001  \\\n",
       "137  16000US0684774        West Puente Valley, CA    75856.0   \n",
       "138  16000US0684780     West Rancho Dominguez, CA    60155.0   \n",
       "139  16000US0684921  West Whittier-Los Nietos, CA    76397.0   \n",
       "140  16000US0685292                  Whittier, CA    77270.0   \n",
       "141  16000US0685614               Willowbrook, CA    43781.0   \n",
       "\n",
       "     B19013001, Error                                           geometry  \n",
       "137            8204.0  MULTIPOLYGON (((-117.99004 34.05045, -117.9895...  \n",
       "138            4727.0  MULTIPOLYGON (((-118.25442 33.90622, -118.2542...  \n",
       "139            4204.0  MULTIPOLYGON (((-118.08884 33.96718, -118.0888...  \n",
       "140            3192.0  MULTIPOLYGON (((-118.05774 34.02465, -118.0562...  \n",
       "141            4772.0  MULTIPOLYGON (((-118.25427 33.92946, -118.2533...  "
      ]
     },
     "execution_count": 7,
     "metadata": {},
     "output_type": "execute_result"
    }
   ],
   "source": [
    "LA_income.tail()"
   ]
  },
  {
   "cell_type": "markdown",
   "id": "0bea1e58-1c0c-4a47-b14a-469a4b6baafe",
   "metadata": {},
   "source": [
    "Let's see a random sample!"
   ]
  },
  {
   "cell_type": "code",
   "execution_count": 8,
   "id": "94a621d1-44b2-4dff-ac33-58657549de06",
   "metadata": {},
   "outputs": [
    {
     "data": {
      "text/html": [
       "<div>\n",
       "<style scoped>\n",
       "    .dataframe tbody tr th:only-of-type {\n",
       "        vertical-align: middle;\n",
       "    }\n",
       "\n",
       "    .dataframe tbody tr th {\n",
       "        vertical-align: top;\n",
       "    }\n",
       "\n",
       "    .dataframe thead th {\n",
       "        text-align: right;\n",
       "    }\n",
       "</style>\n",
       "<table border=\"1\" class=\"dataframe\">\n",
       "  <thead>\n",
       "    <tr style=\"text-align: right;\">\n",
       "      <th></th>\n",
       "      <th>geoid</th>\n",
       "      <th>name</th>\n",
       "      <th>B19013001</th>\n",
       "      <th>B19013001, Error</th>\n",
       "      <th>geometry</th>\n",
       "    </tr>\n",
       "  </thead>\n",
       "  <tbody>\n",
       "    <tr>\n",
       "      <th>110</th>\n",
       "      <td>16000US0671806</td>\n",
       "      <td>Sierra Madre, CA</td>\n",
       "      <td>100988.0</td>\n",
       "      <td>9941.0</td>\n",
       "      <td>MULTIPOLYGON (((-118.06820 34.17295, -118.0681...</td>\n",
       "    </tr>\n",
       "  </tbody>\n",
       "</table>\n",
       "</div>"
      ],
      "text/plain": [
       "              geoid              name  B19013001  B19013001, Error  \\\n",
       "110  16000US0671806  Sierra Madre, CA   100988.0            9941.0   \n",
       "\n",
       "                                              geometry  \n",
       "110  MULTIPOLYGON (((-118.06820 34.17295, -118.0681...  "
      ]
     },
     "execution_count": 8,
     "metadata": {},
     "output_type": "execute_result"
    }
   ],
   "source": [
    "LA_income.sample()"
   ]
  },
  {
   "cell_type": "markdown",
   "id": "4d2657b3-e387-4fc1-b1de-5ddce25e168d",
   "metadata": {},
   "source": [
    "## Let's get familiar with plotting now!"
   ]
  },
  {
   "cell_type": "code",
   "execution_count": 9,
   "id": "3a0b3679-6bd9-48ac-952e-d21b4f4098aa",
   "metadata": {},
   "outputs": [
    {
     "data": {
      "text/plain": [
       "<AxesSubplot:>"
      ]
     },
     "execution_count": 9,
     "metadata": {},
     "output_type": "execute_result"
    },
    {
     "data": {
      "image/png": "[encoded data removed]",
      "text/plain": [
       "<Figure size 720x720 with 1 Axes>"
      ]
     },
     "metadata": {
      "needs_background": "light"
     },
     "output_type": "display_data"
    }
   ],
   "source": [
    "LA_income.plot(figsize=(10,10))"
   ]
  },
  {
   "cell_type": "markdown",
   "id": "6f0d9ea2-aa53-4e4d-b57c-90be984972ba",
   "metadata": {},
   "source": [
    "Now look at that! LA county looks good!\n",
    "Let's see, what data types are in this data set?"
   ]
  },
  {
   "cell_type": "code",
   "execution_count": 10,
   "id": "59c2cf4f-8de8-4d54-98d3-b61a27834b24",
   "metadata": {},
   "outputs": [
    {
     "name": "stdout",
     "output_type": "stream",
     "text": [
      "<class 'geopandas.geodataframe.GeoDataFrame'>\n",
      "RangeIndex: 142 entries, 0 to 141\n",
      "Data columns (total 5 columns):\n",
      " #   Column            Non-Null Count  Dtype   \n",
      "---  ------            --------------  -----   \n",
      " 0   geoid             142 non-null    object  \n",
      " 1   name              142 non-null    object  \n",
      " 2   B19013001         142 non-null    float64 \n",
      " 3   B19013001, Error  141 non-null    float64 \n",
      " 4   geometry          142 non-null    geometry\n",
      "dtypes: float64(2), geometry(1), object(2)\n",
      "memory usage: 5.7+ KB\n"
     ]
    }
   ],
   "source": [
    "LA_income.info()"
   ]
  },
  {
   "cell_type": "markdown",
   "id": "1cfa2a90-58c0-41bf-acab-e69f51ff0630",
   "metadata": {},
   "source": [
    "We have some summarized vision of the data set now. Great! Let's get familiar with the FIPS code now since we're looking at county data from the census."
   ]
  },
  {
   "cell_type": "code",
   "execution_count": 11,
   "id": "6de79d86-3d74-4bf3-a65f-d7d7622af4ef",
   "metadata": {},
   "outputs": [
    {
     "data": {
      "text/plain": [
       "0      05000US06037\n",
       "1    16000US0600212\n",
       "2    16000US0600394\n",
       "3    16000US0600450\n",
       "4    16000US0600884\n",
       "Name: geoid, dtype: object"
      ]
     },
     "execution_count": 11,
     "metadata": {},
     "output_type": "execute_result"
    }
   ],
   "source": [
    "LA_income.geoid.head()"
   ]
  },
  {
   "cell_type": "markdown",
   "id": "c211c226-f823-40c6-80b2-705d232fa563",
   "metadata": {},
   "source": [
    "Okay, the first row looks different. This first row is for the entire county. We can do without it since it represents a different scale. Let's drop the first row but let's take a look at the top of the data set before we do just to make sure. "
   ]
  },
  {
   "cell_type": "code",
   "execution_count": 12,
   "id": "8024acdf-fca3-40dc-9131-b3f2371cc457",
   "metadata": {},
   "outputs": [
    {
     "data": {
      "text/html": [
       "<div>\n",
       "<style scoped>\n",
       "    .dataframe tbody tr th:only-of-type {\n",
       "        vertical-align: middle;\n",
       "    }\n",
       "\n",
       "    .dataframe tbody tr th {\n",
       "        vertical-align: top;\n",
       "    }\n",
       "\n",
       "    .dataframe thead th {\n",
       "        text-align: right;\n",
       "    }\n",
       "</style>\n",
       "<table border=\"1\" class=\"dataframe\">\n",
       "  <thead>\n",
       "    <tr style=\"text-align: right;\">\n",
       "      <th></th>\n",
       "      <th>geoid</th>\n",
       "      <th>name</th>\n",
       "      <th>B19013001</th>\n",
       "      <th>B19013001, Error</th>\n",
       "      <th>geometry</th>\n",
       "    </tr>\n",
       "  </thead>\n",
       "  <tbody>\n",
       "    <tr>\n",
       "      <th>0</th>\n",
       "      <td>05000US06037</td>\n",
       "      <td>Los Angeles County, CA</td>\n",
       "      <td>68044.0</td>\n",
       "      <td>347.0</td>\n",
       "      <td>MULTIPOLYGON (((-118.70339 34.16859, -118.7033...</td>\n",
       "    </tr>\n",
       "    <tr>\n",
       "      <th>1</th>\n",
       "      <td>16000US0600212</td>\n",
       "      <td>Acton, CA</td>\n",
       "      <td>97857.0</td>\n",
       "      <td>7939.0</td>\n",
       "      <td>MULTIPOLYGON (((-118.25990 34.49589, -118.2579...</td>\n",
       "    </tr>\n",
       "    <tr>\n",
       "      <th>2</th>\n",
       "      <td>16000US0600394</td>\n",
       "      <td>Agoura Hills, CA</td>\n",
       "      <td>122998.0</td>\n",
       "      <td>7910.0</td>\n",
       "      <td>MULTIPOLYGON (((-118.79962 34.14005, -118.7967...</td>\n",
       "    </tr>\n",
       "    <tr>\n",
       "      <th>3</th>\n",
       "      <td>16000US0600450</td>\n",
       "      <td>Agua Dulce, CA</td>\n",
       "      <td>106875.0</td>\n",
       "      <td>28122.0</td>\n",
       "      <td>MULTIPOLYGON (((-118.37894 34.46763, -118.3783...</td>\n",
       "    </tr>\n",
       "    <tr>\n",
       "      <th>4</th>\n",
       "      <td>16000US0600884</td>\n",
       "      <td>Alhambra, CA</td>\n",
       "      <td>61384.0</td>\n",
       "      <td>2132.0</td>\n",
       "      <td>MULTIPOLYGON (((-118.16528 34.06244, -118.1652...</td>\n",
       "    </tr>\n",
       "  </tbody>\n",
       "</table>\n",
       "</div>"
      ],
      "text/plain": [
       "            geoid                    name  B19013001  B19013001, Error  \\\n",
       "0    05000US06037  Los Angeles County, CA    68044.0             347.0   \n",
       "1  16000US0600212               Acton, CA    97857.0            7939.0   \n",
       "2  16000US0600394        Agoura Hills, CA   122998.0            7910.0   \n",
       "3  16000US0600450          Agua Dulce, CA   106875.0           28122.0   \n",
       "4  16000US0600884            Alhambra, CA    61384.0            2132.0   \n",
       "\n",
       "                                            geometry  \n",
       "0  MULTIPOLYGON (((-118.70339 34.16859, -118.7033...  \n",
       "1  MULTIPOLYGON (((-118.25990 34.49589, -118.2579...  \n",
       "2  MULTIPOLYGON (((-118.79962 34.14005, -118.7967...  \n",
       "3  MULTIPOLYGON (((-118.37894 34.46763, -118.3783...  \n",
       "4  MULTIPOLYGON (((-118.16528 34.06244, -118.1652...  "
      ]
     },
     "execution_count": 12,
     "metadata": {},
     "output_type": "execute_result"
    }
   ],
   "source": [
    "LA_income.head()"
   ]
  },
  {
   "cell_type": "markdown",
   "id": "b5f4ddb0-e6b5-4ca0-b9cf-67bdf97cfb6b",
   "metadata": {},
   "source": [
    "Perfect! Now let's drop that first row with the index 0."
   ]
  },
  {
   "cell_type": "code",
   "execution_count": 13,
   "id": "535716bc-4209-4d2c-8753-e03a38ed37d5",
   "metadata": {},
   "outputs": [],
   "source": [
    "LA_income = LA_income.drop([0])"
   ]
  },
  {
   "cell_type": "markdown",
   "id": "8225c655-b7f5-434f-a345-263dfbbecf1e",
   "metadata": {},
   "source": [
    "Let's see what that looks like now that we've dropped that row."
   ]
  },
  {
   "cell_type": "code",
   "execution_count": 14,
   "id": "bcdbd92c-c48a-4971-917b-03afdc19260f",
   "metadata": {},
   "outputs": [
    {
     "data": {
      "text/html": [
       "<div>\n",
       "<style scoped>\n",
       "    .dataframe tbody tr th:only-of-type {\n",
       "        vertical-align: middle;\n",
       "    }\n",
       "\n",
       "    .dataframe tbody tr th {\n",
       "        vertical-align: top;\n",
       "    }\n",
       "\n",
       "    .dataframe thead th {\n",
       "        text-align: right;\n",
       "    }\n",
       "</style>\n",
       "<table border=\"1\" class=\"dataframe\">\n",
       "  <thead>\n",
       "    <tr style=\"text-align: right;\">\n",
       "      <th></th>\n",
       "      <th>geoid</th>\n",
       "      <th>name</th>\n",
       "      <th>B19013001</th>\n",
       "      <th>B19013001, Error</th>\n",
       "      <th>geometry</th>\n",
       "    </tr>\n",
       "  </thead>\n",
       "  <tbody>\n",
       "    <tr>\n",
       "      <th>1</th>\n",
       "      <td>16000US0600212</td>\n",
       "      <td>Acton, CA</td>\n",
       "      <td>97857.0</td>\n",
       "      <td>7939.0</td>\n",
       "      <td>MULTIPOLYGON (((-118.25990 34.49589, -118.2579...</td>\n",
       "    </tr>\n",
       "    <tr>\n",
       "      <th>2</th>\n",
       "      <td>16000US0600394</td>\n",
       "      <td>Agoura Hills, CA</td>\n",
       "      <td>122998.0</td>\n",
       "      <td>7910.0</td>\n",
       "      <td>MULTIPOLYGON (((-118.79962 34.14005, -118.7967...</td>\n",
       "    </tr>\n",
       "    <tr>\n",
       "      <th>3</th>\n",
       "      <td>16000US0600450</td>\n",
       "      <td>Agua Dulce, CA</td>\n",
       "      <td>106875.0</td>\n",
       "      <td>28122.0</td>\n",
       "      <td>MULTIPOLYGON (((-118.37894 34.46763, -118.3783...</td>\n",
       "    </tr>\n",
       "    <tr>\n",
       "      <th>4</th>\n",
       "      <td>16000US0600884</td>\n",
       "      <td>Alhambra, CA</td>\n",
       "      <td>61384.0</td>\n",
       "      <td>2132.0</td>\n",
       "      <td>MULTIPOLYGON (((-118.16528 34.06244, -118.1652...</td>\n",
       "    </tr>\n",
       "    <tr>\n",
       "      <th>5</th>\n",
       "      <td>16000US0601150</td>\n",
       "      <td>Alondra Park, CA</td>\n",
       "      <td>61865.0</td>\n",
       "      <td>5976.0</td>\n",
       "      <td>MULTIPOLYGON (((-118.34382 33.89339, -118.3435...</td>\n",
       "    </tr>\n",
       "  </tbody>\n",
       "</table>\n",
       "</div>"
      ],
      "text/plain": [
       "            geoid              name  B19013001  B19013001, Error  \\\n",
       "1  16000US0600212         Acton, CA    97857.0            7939.0   \n",
       "2  16000US0600394  Agoura Hills, CA   122998.0            7910.0   \n",
       "3  16000US0600450    Agua Dulce, CA   106875.0           28122.0   \n",
       "4  16000US0600884      Alhambra, CA    61384.0            2132.0   \n",
       "5  16000US0601150  Alondra Park, CA    61865.0            5976.0   \n",
       "\n",
       "                                            geometry  \n",
       "1  MULTIPOLYGON (((-118.25990 34.49589, -118.2579...  \n",
       "2  MULTIPOLYGON (((-118.79962 34.14005, -118.7967...  \n",
       "3  MULTIPOLYGON (((-118.37894 34.46763, -118.3783...  \n",
       "4  MULTIPOLYGON (((-118.16528 34.06244, -118.1652...  \n",
       "5  MULTIPOLYGON (((-118.34382 33.89339, -118.3435...  "
      ]
     },
     "execution_count": 14,
     "metadata": {},
     "output_type": "execute_result"
    }
   ],
   "source": [
    "LA_income.head()"
   ]
  },
  {
   "cell_type": "markdown",
   "id": "eb4749ad-af00-422c-9032-79a519661c09",
   "metadata": {},
   "source": [
    "Look at that! Still looks good."
   ]
  },
  {
   "cell_type": "markdown",
   "id": "06dbd50f-a596-43d7-941d-20a6c9ade386",
   "metadata": {},
   "source": [
    "## Let's dive into some of this census data a bit more!"
   ]
  },
  {
   "cell_type": "markdown",
   "id": "a55995f8-31f2-4f4a-8732-dfd2a5ebac70",
   "metadata": {},
   "source": [
    "Okay, let's take a look at our data. Our last data set was way too big! That being said, do we need to drop any of our columns? Let's view our columns as a list then. "
   ]
  },
  {
   "cell_type": "code",
   "execution_count": 15,
   "id": "1b5eb09b-2f3d-4d17-8594-0f9ae0f3cdc7",
   "metadata": {},
   "outputs": [
    {
     "data": {
      "text/plain": [
       "['geoid', 'name', 'B19013001', 'B19013001, Error', 'geometry']"
      ]
     },
     "execution_count": 15,
     "metadata": {},
     "output_type": "execute_result"
    }
   ],
   "source": [
    "list(LA_income)"
   ]
  },
  {
   "cell_type": "markdown",
   "id": "0689c3cf-70a6-4be4-b325-b975c55d746c",
   "metadata": {},
   "source": [
    "Not bad! We have our geoid, the city names... okay, what is 'B19013001'? Yikes! Let's look it up! "
   ]
  },
  {
   "cell_type": "markdown",
   "id": "d6c22ed6-559a-4399-84ff-be17aecde2cb",
   "metadata": {},
   "source": [
    "Nothing crazy, that's good news! Looks like 'B19013001' is code for 'Median Household Income.' and \"B19013001, Error' stands for inflation adjusted dollars... Let's  rename these columns now."
   ]
  },
  {
   "cell_type": "code",
   "execution_count": 16,
   "id": "51281623-6375-4630-a63f-8613e8c93369",
   "metadata": {},
   "outputs": [],
   "source": [
    "LA_income.columns = ['geoid',\n",
    " 'name',\n",
    " 'median hhi-2020',\n",
    " 'In 2019 adj. Dollars',\n",
    " 'geometry']"
   ]
  },
  {
   "cell_type": "markdown",
   "id": "2a2405a3-750d-4177-9cf4-a73a4014ab73",
   "metadata": {},
   "source": [
    "Now that we've renamed them, let's see what these columns look like on a table!"
   ]
  },
  {
   "cell_type": "code",
   "execution_count": 17,
   "id": "4f238404-220b-4a84-8478-3124e1470861",
   "metadata": {},
   "outputs": [
    {
     "data": {
      "text/html": [
       "<div>\n",
       "<style scoped>\n",
       "    .dataframe tbody tr th:only-of-type {\n",
       "        vertical-align: middle;\n",
       "    }\n",
       "\n",
       "    .dataframe tbody tr th {\n",
       "        vertical-align: top;\n",
       "    }\n",
       "\n",
       "    .dataframe thead th {\n",
       "        text-align: right;\n",
       "    }\n",
       "</style>\n",
       "<table border=\"1\" class=\"dataframe\">\n",
       "  <thead>\n",
       "    <tr style=\"text-align: right;\">\n",
       "      <th></th>\n",
       "      <th>geoid</th>\n",
       "      <th>name</th>\n",
       "      <th>median hhi-2020</th>\n",
       "      <th>In 2019 adj. Dollars</th>\n",
       "      <th>geometry</th>\n",
       "    </tr>\n",
       "  </thead>\n",
       "  <tbody>\n",
       "    <tr>\n",
       "      <th>1</th>\n",
       "      <td>16000US0600212</td>\n",
       "      <td>Acton, CA</td>\n",
       "      <td>97857.0</td>\n",
       "      <td>7939.0</td>\n",
       "      <td>MULTIPOLYGON (((-118.25990 34.49589, -118.2579...</td>\n",
       "    </tr>\n",
       "    <tr>\n",
       "      <th>2</th>\n",
       "      <td>16000US0600394</td>\n",
       "      <td>Agoura Hills, CA</td>\n",
       "      <td>122998.0</td>\n",
       "      <td>7910.0</td>\n",
       "      <td>MULTIPOLYGON (((-118.79962 34.14005, -118.7967...</td>\n",
       "    </tr>\n",
       "    <tr>\n",
       "      <th>3</th>\n",
       "      <td>16000US0600450</td>\n",
       "      <td>Agua Dulce, CA</td>\n",
       "      <td>106875.0</td>\n",
       "      <td>28122.0</td>\n",
       "      <td>MULTIPOLYGON (((-118.37894 34.46763, -118.3783...</td>\n",
       "    </tr>\n",
       "    <tr>\n",
       "      <th>4</th>\n",
       "      <td>16000US0600884</td>\n",
       "      <td>Alhambra, CA</td>\n",
       "      <td>61384.0</td>\n",
       "      <td>2132.0</td>\n",
       "      <td>MULTIPOLYGON (((-118.16528 34.06244, -118.1652...</td>\n",
       "    </tr>\n",
       "    <tr>\n",
       "      <th>5</th>\n",
       "      <td>16000US0601150</td>\n",
       "      <td>Alondra Park, CA</td>\n",
       "      <td>61865.0</td>\n",
       "      <td>5976.0</td>\n",
       "      <td>MULTIPOLYGON (((-118.34382 33.89339, -118.3435...</td>\n",
       "    </tr>\n",
       "  </tbody>\n",
       "</table>\n",
       "</div>"
      ],
      "text/plain": [
       "            geoid              name  median hhi-2020  In 2019 adj. Dollars  \\\n",
       "1  16000US0600212         Acton, CA          97857.0                7939.0   \n",
       "2  16000US0600394  Agoura Hills, CA         122998.0                7910.0   \n",
       "3  16000US0600450    Agua Dulce, CA         106875.0               28122.0   \n",
       "4  16000US0600884      Alhambra, CA          61384.0                2132.0   \n",
       "5  16000US0601150  Alondra Park, CA          61865.0                5976.0   \n",
       "\n",
       "                                            geometry  \n",
       "1  MULTIPOLYGON (((-118.25990 34.49589, -118.2579...  \n",
       "2  MULTIPOLYGON (((-118.79962 34.14005, -118.7967...  \n",
       "3  MULTIPOLYGON (((-118.37894 34.46763, -118.3783...  \n",
       "4  MULTIPOLYGON (((-118.16528 34.06244, -118.1652...  \n",
       "5  MULTIPOLYGON (((-118.34382 33.89339, -118.3435...  "
      ]
     },
     "execution_count": 17,
     "metadata": {},
     "output_type": "execute_result"
    }
   ],
   "source": [
    "LA_income.head()"
   ]
  },
  {
   "cell_type": "markdown",
   "id": "ddbf1176-67d3-46c6-9b85-c869225d37bc",
   "metadata": {},
   "source": [
    "Let's isolate a column and see what a single column's data looks like."
   ]
  },
  {
   "cell_type": "code",
   "execution_count": 18,
   "id": "015c30c1-f490-4999-8344-239f111432ee",
   "metadata": {},
   "outputs": [
    {
     "data": {
      "text/plain": [
       "1     97857.0\n",
       "2    122998.0\n",
       "3    106875.0\n",
       "4     61384.0\n",
       "5     61865.0\n",
       "Name: median hhi-2020, dtype: float64"
      ]
     },
     "execution_count": 18,
     "metadata": {},
     "output_type": "execute_result"
    }
   ],
   "source": [
    "LA_income['median hhi-2020'].head()"
   ]
  },
  {
   "cell_type": "markdown",
   "id": "d3aafe9f-5b98-4928-b091-8b56074f28e3",
   "metadata": {},
   "source": [
    "Look's great! I wonder what the mean median household income for 2020 is?"
   ]
  },
  {
   "cell_type": "code",
   "execution_count": 19,
   "id": "aeac4d7c-9312-4b57-a681-5abf1d413012",
   "metadata": {},
   "outputs": [
    {
     "data": {
      "text/plain": [
       "84695.72340425532"
      ]
     },
     "execution_count": 19,
     "metadata": {},
     "output_type": "execute_result"
    }
   ],
   "source": [
    "LA_income['median hhi-2020'].mean()"
   ]
  },
  {
   "cell_type": "markdown",
   "id": "38aaabc3-250c-4845-852b-e535917c6f26",
   "metadata": {},
   "source": [
    "Whoa! Look at that! looks like mean for median household income is estimated to be around $84,696."
   ]
  },
  {
   "cell_type": "markdown",
   "id": "7597a316-128c-4896-a260-aa17994fcedd",
   "metadata": {},
   "source": [
    "What about the median?"
   ]
  },
  {
   "cell_type": "code",
   "execution_count": 20,
   "id": "3be6ccd3-e9ea-4fd6-b40b-8214f47f52de",
   "metadata": {},
   "outputs": [
    {
     "data": {
      "text/plain": [
       "75827.0"
      ]
     },
     "execution_count": 20,
     "metadata": {},
     "output_type": "execute_result"
    }
   ],
   "source": [
    "LA_income['median hhi-2020'].median()"
   ]
  },
  {
   "cell_type": "markdown",
   "id": "8f5a9170-03e8-48f9-92ae-39f130ae3f48",
   "metadata": {},
   "source": [
    "Looks like $75,827 is the median for household median income in 2020"
   ]
  },
  {
   "cell_type": "markdown",
   "id": "e74ea4be-1597-4662-acb1-28412089d455",
   "metadata": {},
   "source": [
    "## Interesting... Let's use some of those quant. skills from our 1st year as MURP students. You got it! Let's display some stats!"
   ]
  },
  {
   "cell_type": "code",
   "execution_count": 21,
   "id": "eaef7330-fb6b-425e-adec-c36f67b5910f",
   "metadata": {},
   "outputs": [
    {
     "data": {
      "text/plain": [
       "count       141.000000\n",
       "mean      84695.723404\n",
       "std       35718.179714\n",
       "min       38600.000000\n",
       "25%       61384.000000\n",
       "50%       75827.000000\n",
       "75%       99083.000000\n",
       "max      250001.000000\n",
       "Name: median hhi-2020, dtype: float64"
      ]
     },
     "execution_count": 21,
     "metadata": {},
     "output_type": "execute_result"
    }
   ],
   "source": [
    "LA_income['median hhi-2020'].describe()"
   ]
  },
  {
   "cell_type": "markdown",
   "id": "d8b984ec-a980-440e-b1d2-88d6f3bed54e",
   "metadata": {},
   "source": [
    "Look at that! In 2020, the minimum median household income was 38,600 dollars unadjusted for inflation. The maximum median household income in 2020 was 250,001 dollars. Wow! I wonder who those people are. Must be nice to have all that MONEY! Let's get into some of these stats before we map out these income differences. I want to know where these people making 250,000 reside at!"
   ]
  },
  {
   "cell_type": "markdown",
   "id": "a5fedb3d-a65f-4c2f-a45f-e76d579951af",
   "metadata": {},
   "source": [
    "Let's plot these numbers as a histogram with 50 bins. That should give us a good view of these stats."
   ]
  },
  {
   "cell_type": "code",
   "execution_count": 26,
   "id": "1b6c4cd1-0ecd-4444-91ca-9fe9b0d758f6",
   "metadata": {},
   "outputs": [
    {
     "data": {
      "text/plain": [
       "<AxesSubplot:ylabel='Frequency'>"
      ]
     },
     "execution_count": 26,
     "metadata": {},
     "output_type": "execute_result"
    },
    {
     "data": {
      "image/png": "[encoded data removed]",
      "text/plain": [
       "<Figure size 432x288 with 1 Axes>"
      ]
     },
     "metadata": {
      "needs_background": "light"
     },
     "output_type": "display_data"
    }
   ],
   "source": [
    "LA_income['median hhi-2020'].plot.hist(bins=50)"
   ]
  },
  {
   "cell_type": "markdown",
   "id": "b7d00760-2951-47ca-92de-6b5a9771d5b0",
   "metadata": {},
   "source": [
    "Interesting... looks like there's a high number of people making somewhat close to 50,000 dollars. And yup! Those people making 250,000 dollars seem to be outliers. Look at that!"
   ]
  },
  {
   "cell_type": "markdown",
   "id": "cc6a1724-35a4-404b-9998-affac9e4a2aa",
   "metadata": {},
   "source": [
    "## Let's start sorting some data now."
   ]
  },
  {
   "cell_type": "markdown",
   "id": "f74c3794-483d-411e-a767-3d93319369cb",
   "metadata": {},
   "source": [
    "We should probably set our values in order from highest to lowest and look at a sample of 10 just to see what that does to our data."
   ]
  },
  {
   "cell_type": "code",
   "execution_count": 27,
   "id": "972a7bb9-902d-418e-ad1d-c65214bc6f2e",
   "metadata": {},
   "outputs": [],
   "source": [
    "LA_income_sorted = LA_income.sort_values(by='median hhi-2020',ascending = False)"
   ]
  },
  {
   "cell_type": "markdown",
   "id": "03d9a1ed-7e6d-4d85-8b9e-9df27f1cb325",
   "metadata": {},
   "source": [
    "Let's see that sample now..."
   ]
  },
  {
   "cell_type": "code",
   "execution_count": 36,
   "id": "4810e5bf-dbd6-4d82-ab07-d7a958b6fa65",
   "metadata": {},
   "outputs": [
    {
     "data": {
      "text/html": [
       "<div>\n",
       "<style scoped>\n",
       "    .dataframe tbody tr th:only-of-type {\n",
       "        vertical-align: middle;\n",
       "    }\n",
       "\n",
       "    .dataframe tbody tr th {\n",
       "        vertical-align: top;\n",
       "    }\n",
       "\n",
       "    .dataframe thead th {\n",
       "        text-align: right;\n",
       "    }\n",
       "</style>\n",
       "<table border=\"1\" class=\"dataframe\">\n",
       "  <thead>\n",
       "    <tr style=\"text-align: right;\">\n",
       "      <th></th>\n",
       "      <th>geoid</th>\n",
       "      <th>median hhi-2020</th>\n",
       "    </tr>\n",
       "  </thead>\n",
       "  <tbody>\n",
       "    <tr>\n",
       "      <th>97</th>\n",
       "      <td>16000US0662602</td>\n",
       "      <td>250001.0</td>\n",
       "    </tr>\n",
       "    <tr>\n",
       "      <th>54</th>\n",
       "      <td>16000US0633518</td>\n",
       "      <td>246042.0</td>\n",
       "    </tr>\n",
       "    <tr>\n",
       "      <th>89</th>\n",
       "      <td>16000US0655380</td>\n",
       "      <td>194543.0</td>\n",
       "    </tr>\n",
       "    <tr>\n",
       "      <th>59</th>\n",
       "      <td>16000US0639003</td>\n",
       "      <td>175788.0</td>\n",
       "    </tr>\n",
       "    <tr>\n",
       "      <th>105</th>\n",
       "      <td>16000US0668224</td>\n",
       "      <td>166607.0</td>\n",
       "    </tr>\n",
       "    <tr>\n",
       "      <th>79</th>\n",
       "      <td>16000US0645400</td>\n",
       "      <td>153023.0</td>\n",
       "    </tr>\n",
       "    <tr>\n",
       "      <th>78</th>\n",
       "      <td>16000US0645246</td>\n",
       "      <td>150747.0</td>\n",
       "    </tr>\n",
       "    <tr>\n",
       "      <th>98</th>\n",
       "      <td>16000US0662644</td>\n",
       "      <td>150135.0</td>\n",
       "    </tr>\n",
       "    <tr>\n",
       "      <th>17</th>\n",
       "      <td>16000US0607946</td>\n",
       "      <td>146250.0</td>\n",
       "    </tr>\n",
       "    <tr>\n",
       "      <th>135</th>\n",
       "      <td>16000US0684438</td>\n",
       "      <td>140850.0</td>\n",
       "    </tr>\n",
       "  </tbody>\n",
       "</table>\n",
       "</div>"
      ],
      "text/plain": [
       "              geoid  median hhi-2020\n",
       "97   16000US0662602         250001.0\n",
       "54   16000US0633518         246042.0\n",
       "89   16000US0655380         194543.0\n",
       "59   16000US0639003         175788.0\n",
       "105  16000US0668224         166607.0\n",
       "79   16000US0645400         153023.0\n",
       "78   16000US0645246         150747.0\n",
       "98   16000US0662644         150135.0\n",
       "17   16000US0607946         146250.0\n",
       "135  16000US0684438         140850.0"
      ]
     },
     "execution_count": 36,
     "metadata": {},
     "output_type": "execute_result"
    }
   ],
   "source": [
    "LA_income_sorted[['geoid','median hhi-2020']].head(10)"
   ]
  },
  {
   "cell_type": "markdown",
   "id": "bbe936f1-fdc9-48b8-bd42-1d4cf1def0f0",
   "metadata": {},
   "source": [
    "Cool! Now the column is displaying median household income in ascending order. "
   ]
  },
  {
   "cell_type": "markdown",
   "id": "a108c146-b6f0-4b93-9fc4-f6c8b5fbd536",
   "metadata": {},
   "source": [
    "## Are we ready to try some mapping??"
   ]
  },
  {
   "cell_type": "markdown",
   "id": "79e6c6b3-4967-48ec-a311-a56ee1c6dea9",
   "metadata": {},
   "source": [
    "Let's get into it and plot that sample of 10 on the map!"
   ]
  },
  {
   "cell_type": "code",
   "execution_count": 28,
   "id": "d4a98576-35e3-4abc-a825-9f9594ca108f",
   "metadata": {},
   "outputs": [
    {
     "data": {
      "text/plain": [
       "<AxesSubplot:>"
      ]
     },
     "execution_count": 28,
     "metadata": {},
     "output_type": "execute_result"
    },
    {
     "data": {
      "image/png": "[encoded data removed]",
      "text/plain": [
       "<Figure size 432x288 with 1 Axes>"
      ]
     },
     "metadata": {
      "needs_background": "light"
     },
     "output_type": "display_data"
    }
   ],
   "source": [
    "LA_income_sorted.head(10).plot()"
   ]
  },
  {
   "cell_type": "markdown",
   "id": "8fab7100-e5ac-43d3-9461-324c76d48ce3",
   "metadata": {},
   "source": [
    "That looks nice! Woooow! Let's make it nicer. Let's sort a sample of 100 in ascending order to map out the differences in median household income across LA County."
   ]
  },
  {
   "cell_type": "code",
   "execution_count": 29,
   "id": "0bebf659-c4c0-4f09-869e-713c3153acb4",
   "metadata": {},
   "outputs": [
    {
     "data": {
      "text/plain": [
       "<AxesSubplot:>"
      ]
     },
     "execution_count": 29,
     "metadata": {},
     "output_type": "execute_result"
    },
    {
     "data": {
      "image/png": "[encoded data removed]",
      "text/plain": [
       "<Figure size 720x720 with 2 Axes>"
      ]
     },
     "metadata": {
      "needs_background": "light"
     },
     "output_type": "display_data"
    }
   ],
   "source": [
    "LA_income_sorted.head(100).plot(figsize=(10,10),column='median hhi-2020',legend=True)"
   ]
  },
  {
   "cell_type": "markdown",
   "id": "576ed5d2-2842-492e-b860-16f486042a24",
   "metadata": {},
   "source": [
    "## Shall we look into filtering and subsetting our data?"
   ]
  },
  {
   "cell_type": "markdown",
   "id": "9a8ef5dd-b68a-4201-9382-80ed327e79d6",
   "metadata": {},
   "source": [
    "Let's get into it! Let's see some of our data per row. For starters, let's see if the data captured any places where the median household income totaled the min 38600.000000 dollars. "
   ]
  },
  {
   "cell_type": "code",
   "execution_count": 50,
   "id": "3822e613-0b3f-47ad-a3fd-97c1059fd1f3",
   "metadata": {},
   "outputs": [
    {
     "data": {
      "text/html": [
       "<div>\n",
       "<style scoped>\n",
       "    .dataframe tbody tr th:only-of-type {\n",
       "        vertical-align: middle;\n",
       "    }\n",
       "\n",
       "    .dataframe tbody tr th {\n",
       "        vertical-align: top;\n",
       "    }\n",
       "\n",
       "    .dataframe thead th {\n",
       "        text-align: right;\n",
       "    }\n",
       "</style>\n",
       "<table border=\"1\" class=\"dataframe\">\n",
       "  <thead>\n",
       "    <tr style=\"text-align: right;\">\n",
       "      <th></th>\n",
       "      <th>geoid</th>\n",
       "      <th>name</th>\n",
       "      <th>median hhi-2020</th>\n",
       "      <th>In 2019 adj. Dollars</th>\n",
       "      <th>geometry</th>\n",
       "    </tr>\n",
       "  </thead>\n",
       "  <tbody>\n",
       "    <tr>\n",
       "      <th>136</th>\n",
       "      <td>16000US0684592</td>\n",
       "      <td>Westmont, CA</td>\n",
       "      <td>38600.0</td>\n",
       "      <td>2856.0</td>\n",
       "      <td>MULTIPOLYGON (((-118.31775 33.93090, -118.3177...</td>\n",
       "    </tr>\n",
       "  </tbody>\n",
       "</table>\n",
       "</div>"
      ],
      "text/plain": [
       "              geoid          name  median hhi-2020  In 2019 adj. Dollars  \\\n",
       "136  16000US0684592  Westmont, CA          38600.0                2856.0   \n",
       "\n",
       "                                              geometry  \n",
       "136  MULTIPOLYGON (((-118.31775 33.93090, -118.3177...  "
      ]
     },
     "execution_count": 50,
     "metadata": {},
     "output_type": "execute_result"
    }
   ],
   "source": [
    "LA_income[LA_income['median hhi-2020']== 38600.000000]"
   ]
  },
  {
   "cell_type": "markdown",
   "id": "974a24c1-f7b2-4d50-a5d2-dab57ac41359",
   "metadata": {},
   "source": [
    "We have to create a new variable and see if there is any record of it. But let's try it."
   ]
  },
  {
   "cell_type": "code",
   "execution_count": 56,
   "id": "51a51d92-eb1e-4fa3-b2e5-9e4991104b6e",
   "metadata": {},
   "outputs": [],
   "source": [
    "LA_income_min= LA_income[LA_income['median hhi-2020']== 38600.000000]"
   ]
  },
  {
   "cell_type": "code",
   "execution_count": 57,
   "id": "c6d2b9a1-d361-4dda-a099-9d2d24d921ff",
   "metadata": {},
   "outputs": [
    {
     "name": "stdout",
     "output_type": "stream",
     "text": [
      "There are 1 places with 38600.000000 in them\n"
     ]
    }
   ],
   "source": [
    "print('There are ' + str(len(LA_income_min)) + ' places with 38600.000000 in them')"
   ]
  },
  {
   "cell_type": "markdown",
   "id": "932f861c-c17d-4bb7-9b8c-075def5347cb",
   "metadata": {},
   "source": [
    "Interesting... there is 1 record of a place with the median houshold income of 38600.000000 dollars in them. Great! Let's keep it moving."
   ]
  },
  {
   "cell_type": "markdown",
   "id": "e8e43316-ed1b-4387-aa90-95949f3188d6",
   "metadata": {},
   "source": [
    "Let's try normalizing the data, but before we begin let's take a look at our list again."
   ]
  },
  {
   "cell_type": "code",
   "execution_count": 58,
   "id": "7950b411-58a6-4860-95c4-6904f434d83d",
   "metadata": {},
   "outputs": [
    {
     "data": {
      "text/plain": [
       "['geoid', 'name', 'median hhi-2020', 'In 2019 adj. Dollars', 'geometry']"
      ]
     },
     "execution_count": 58,
     "metadata": {},
     "output_type": "execute_result"
    }
   ],
   "source": [
    "list(LA_income)"
   ]
  },
  {
   "cell_type": "markdown",
   "id": "a5702047-3fcf-4d87-8535-ee58d142d5c5",
   "metadata": {},
   "source": [
    "Perfect! We have our geoid, city, median household income, 2019 adjust income, and our geometry (or latitutdes and longitudes). Let's take a look at our stats once more so we can make some comparisons in our maps"
   ]
  },
  {
   "cell_type": "code",
   "execution_count": 59,
   "id": "042d7deb-12a7-45f1-8daf-c2e53dca7e8c",
   "metadata": {},
   "outputs": [
    {
     "data": {
      "text/plain": [
       "count       141.000000\n",
       "mean      84695.723404\n",
       "std       35718.179714\n",
       "min       38600.000000\n",
       "25%       61384.000000\n",
       "50%       75827.000000\n",
       "75%       99083.000000\n",
       "max      250001.000000\n",
       "Name: median hhi-2020, dtype: float64"
      ]
     },
     "execution_count": 59,
     "metadata": {},
     "output_type": "execute_result"
    }
   ],
   "source": [
    "LA_income['median hhi-2020'].describe()"
   ]
  },
  {
   "cell_type": "markdown",
   "id": "35502db2-cc7b-4111-927c-a871d74f8f34",
   "metadata": {},
   "source": [
    "## Look at that, memorize it... Now let's try mapping this out by percentiles! "
   ]
  },
  {
   "cell_type": "code",
   "execution_count": 63,
   "id": "0ecd2b57-b8bf-40f6-b1b2-c10814fe7641",
   "metadata": {},
   "outputs": [
    {
     "data": {
      "text/plain": [
       "<AxesSubplot:>"
      ]
     },
     "execution_count": 63,
     "metadata": {},
     "output_type": "execute_result"
    },
    {
     "data": {
      "image/png": "[encoded data removed]",
      "text/plain": [
       "<Figure size 864x720 with 1 Axes>"
      ]
     },
     "metadata": {
      "needs_background": "light"
     },
     "output_type": "display_data"
    }
   ],
   "source": [
    "LA_income.plot(figsize=(12,10),\n",
    "                 column='median hhi-2020',\n",
    "                 legend=True, \n",
    "                 scheme='quantiles')"
   ]
  },
  {
   "cell_type": "markdown",
   "id": "4c4ef31c-7603-44a3-96c5-1c0037476a44",
   "metadata": {},
   "source": []
  }
 ],
 "metadata": {
  "kernelspec": {
   "display_name": "Python 3 (ipykernel)",
   "language": "python",
   "name": "python3"
  },
  "language_info": {
   "codemirror_mode": {
    "name": "ipython",
    "version": 3
   },
   "file_extension": ".py",
   "mimetype": "text/x-python",
   "name": "python",
   "nbconvert_exporter": "python",
   "pygments_lexer": "ipython3",
   "version": "3.9.6"
  }
 },
 "nbformat": 4,
 "nbformat_minor": 5
}
