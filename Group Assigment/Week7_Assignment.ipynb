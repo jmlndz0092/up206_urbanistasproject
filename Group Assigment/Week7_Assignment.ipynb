{
 "cells": [
  {
   "cell_type": "markdown",
   "id": "54788b92-3762-4356-9261-b1b41f6f645c",
   "metadata": {},
   "source": [
    "# Week 7 Assignment"
   ]
  },
  {
   "cell_type": "code",
   "execution_count": null,
   "id": "95088f31-7621-4fb7-bce5-5ccc0ecf441b",
   "metadata": {},
   "outputs": [],
   "source": []
  }
 ],
 "metadata": {
  "kernelspec": {
   "display_name": "Python 3 (ipykernel)",
   "language": "python",
   "name": "python3"
  },
  "language_info": {
   "codemirror_mode": {
    "name": "ipython",
    "version": 3
   },
   "file_extension": ".py",
   "mimetype": "text/x-python",
   "name": "python",
   "nbconvert_exporter": "python",
   "pygments_lexer": "ipython3",
   "version": "3.9.6"
  }
 },
 "nbformat": 4,
 "nbformat_minor": 5
}
