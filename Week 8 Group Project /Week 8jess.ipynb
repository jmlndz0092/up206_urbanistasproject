{
 "cells": [
  {
   "cell_type": "markdown",
   "id": "e100139c-aa56-4b0a-ac4f-aeea3a1c0ffb",
   "metadata": {},
   "source": [
    "# Week 8 Assignment"
   ]
  },
  {
   "cell_type": "code",
   "execution_count": null,
   "id": "bf5fa9f8-75f3-4788-bf15-e101762b211f",
   "metadata": {},
   "outputs": [],
   "source": []
  }
 ],
 "metadata": {
  "kernelspec": {
   "display_name": "Python 3 (ipykernel)",
   "language": "python",
   "name": "python3"
  },
  "language_info": {
   "codemirror_mode": {
    "name": "ipython",
    "version": 3
   },
   "file_extension": ".py",
   "mimetype": "text/x-python",
   "name": "python",
   "nbconvert_exporter": "python",
   "pygments_lexer": "ipython3",
   "version": "3.9.6"
  }
 },
 "nbformat": 4,
 "nbformat_minor": 5
}
